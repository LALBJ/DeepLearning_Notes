{
  "nbformat": 4,
  "nbformat_minor": 0,
  "metadata": {
    "colab": {
      "name": "4_1_张量的结构操作.ipynb",
      "provenance": []
    },
    "kernelspec": {
      "name": "python3",
      "display_name": "Python 3"
    },
    "language_info": {
      "name": "python"
    }
  },
  "cells": [
    {
      "cell_type": "markdown",
      "source": [
        "**一、创建张量**"
      ],
      "metadata": {
        "id": "pwWW0SJX-DCe"
      }
    },
    {
      "cell_type": "code",
      "execution_count": 3,
      "metadata": {
        "id": "Nv_9f7lX9yIf"
      },
      "outputs": [],
      "source": [
        "import tensorflow as tf\n",
        "import numpy as np"
      ]
    },
    {
      "cell_type": "code",
      "source": [
        "a = tf.constant([1,2,3],dtype = tf.float32)\n",
        "tf.print(a)"
      ],
      "metadata": {
        "colab": {
          "base_uri": "https://localhost:8080/"
        },
        "id": "JN3zp2pT-Hvj",
        "outputId": "05c12fde-8827-4da6-f210-8c874d4f018c"
      },
      "execution_count": 4,
      "outputs": [
        {
          "output_type": "stream",
          "name": "stdout",
          "text": [
            "[1 2 3]\n"
          ]
        }
      ]
    },
    {
      "cell_type": "code",
      "source": [
        "b = tf.range(1, 10, delta=2)\n",
        "tf.print(b)"
      ],
      "metadata": {
        "colab": {
          "base_uri": "https://localhost:8080/"
        },
        "id": "4tsYKetL-OHG",
        "outputId": "79971f80-229b-49b9-eec4-a4e5c42c7406"
      },
      "execution_count": 6,
      "outputs": [
        {
          "output_type": "stream",
          "name": "stdout",
          "text": [
            "[1 3 5 7 9]\n"
          ]
        }
      ]
    },
    {
      "cell_type": "code",
      "source": [
        "c = tf.linspace(0.0, 3*3.14, 100)\n",
        "tf.print(c)"
      ],
      "metadata": {
        "colab": {
          "base_uri": "https://localhost:8080/"
        },
        "id": "wfUPSmNN-Sq5",
        "outputId": "532e2adb-ce5b-4701-e7bb-d3d8d15e67c9"
      },
      "execution_count": 7,
      "outputs": [
        {
          "output_type": "stream",
          "name": "stdout",
          "text": [
            "[0 0.0951515138 0.190303028 ... 9.22969723 9.32484818 9.42]\n"
          ]
        }
      ]
    },
    {
      "cell_type": "code",
      "source": [
        "d = tf.zeros([3, 3])\n",
        "tf.print(d)"
      ],
      "metadata": {
        "colab": {
          "base_uri": "https://localhost:8080/"
        },
        "id": "wGckS8D8-XjF",
        "outputId": "f5840e70-0075-47e6-df8c-860d3e2f6b39"
      },
      "execution_count": 8,
      "outputs": [
        {
          "output_type": "stream",
          "name": "stdout",
          "text": [
            "[[0 0 0]\n",
            " [0 0 0]\n",
            " [0 0 0]]\n"
          ]
        }
      ]
    },
    {
      "cell_type": "code",
      "source": [
        "a = tf.ones([3, 3])\n",
        "b = tf.zeros_like(a, dtype=tf.float32)\n",
        "tf.print(a)\n",
        "tf.print(b)"
      ],
      "metadata": {
        "colab": {
          "base_uri": "https://localhost:8080/"
        },
        "id": "0SeruiKx-cPZ",
        "outputId": "a4564653-9eac-4d1f-a005-7bf4f1029d05"
      },
      "execution_count": 9,
      "outputs": [
        {
          "output_type": "stream",
          "name": "stdout",
          "text": [
            "[[1 1 1]\n",
            " [1 1 1]\n",
            " [1 1 1]]\n",
            "[[0 0 0]\n",
            " [0 0 0]\n",
            " [0 0 0]]\n"
          ]
        }
      ]
    },
    {
      "cell_type": "code",
      "source": [
        "b = tf.fill([3, 2], 5)\n",
        "tf.print(b)"
      ],
      "metadata": {
        "colab": {
          "base_uri": "https://localhost:8080/"
        },
        "id": "-OrXhe3B-kWq",
        "outputId": "0984e809-ff16-4c7a-85c9-ffd6270e6c1f"
      },
      "execution_count": 10,
      "outputs": [
        {
          "output_type": "stream",
          "name": "stdout",
          "text": [
            "[[5 5]\n",
            " [5 5]\n",
            " [5 5]]\n"
          ]
        }
      ]
    },
    {
      "cell_type": "code",
      "source": [
        "# 均匀分布随机\n",
        "tf.random.set_seed(1.0)\n",
        "a = tf.random.uniform([5], minval=0, maxval=10)\n",
        "tf.print(a)"
      ],
      "metadata": {
        "colab": {
          "base_uri": "https://localhost:8080/"
        },
        "id": "hEoPeu0f-qii",
        "outputId": "4faec359-13bb-483d-e17c-ebde871ae890"
      },
      "execution_count": 12,
      "outputs": [
        {
          "output_type": "stream",
          "name": "stdout",
          "text": [
            "[1.65130854 9.01481247 6.30974197 4.34546089 2.9193902]\n"
          ]
        }
      ]
    },
    {
      "cell_type": "code",
      "source": [
        "# 正态分布随机\n",
        "b = tf.random.normal([3, 3], mean=0.0, stddev=1.0)\n",
        "tf.print(b)"
      ],
      "metadata": {
        "colab": {
          "base_uri": "https://localhost:8080/"
        },
        "id": "9VtFPkky-0Yi",
        "outputId": "fbfb0072-9936-4f72-f147-18a6c15bcb2b"
      },
      "execution_count": 13,
      "outputs": [
        {
          "output_type": "stream",
          "name": "stdout",
          "text": [
            "[[0.403087884 -1.0880208 -0.0630953535]\n",
            " [1.33655667 0.711760104 -0.489286453]\n",
            " [-0.764221311 -1.03724861 -1.25193381]]\n"
          ]
        }
      ]
    },
    {
      "cell_type": "code",
      "source": [
        "# 正态分布随机，剔除2倍方差以外数据重新生成\n",
        "c = tf.random.truncated_normal((5, 5), mean=0.0, stddev=1.0, dtype=tf.float32)\n",
        "tf.print(c)"
      ],
      "metadata": {
        "colab": {
          "base_uri": "https://localhost:8080/"
        },
        "id": "aeAUb6wF_btv",
        "outputId": "4dd3d801-0c2d-47af-9c68-91530f94d92e"
      },
      "execution_count": 14,
      "outputs": [
        {
          "output_type": "stream",
          "name": "stdout",
          "text": [
            "[[-0.457012236 -0.406867266 0.728577733 -0.892977774 -0.369404584]\n",
            " [0.323488563 1.19383323 0.888299048 1.25985599 -1.95951891]\n",
            " [-0.202244401 0.294496894 -0.468728036 1.29494202 1.48142183]\n",
            " [0.0810953453 1.63843894 0.556645 0.977199793 -1.17777884]\n",
            " [1.67368948 0.0647980496 -0.705142677 -0.281972528 0.126546144]]\n"
          ]
        }
      ]
    },
    {
      "cell_type": "code",
      "source": [
        "# 特殊矩阵\n",
        "I = tf.eye(3, 3)\n",
        "tf.print(I)\n",
        "t = tf.linalg.diag([1,2,3])\n",
        "tf.print(t)"
      ],
      "metadata": {
        "colab": {
          "base_uri": "https://localhost:8080/"
        },
        "id": "48aWjt52_sq2",
        "outputId": "43f50fca-1a83-408a-c0f3-2f60ae4c8a26"
      },
      "execution_count": 16,
      "outputs": [
        {
          "output_type": "stream",
          "name": "stdout",
          "text": [
            "[[1 0 0]\n",
            " [0 1 0]\n",
            " [0 0 1]]\n",
            "[[1 0 0]\n",
            " [0 2 0]\n",
            " [0 0 3]]\n"
          ]
        }
      ]
    },
    {
      "cell_type": "markdown",
      "source": [
        "**二、索引切片**"
      ],
      "metadata": {
        "id": "2ZxaoO6lAO4l"
      }
    },
    {
      "cell_type": "code",
      "source": [
        "tf.random.set_seed(3)\n",
        "t = tf.random.uniform([5, 5], minval=0, maxval=10, dtype=tf.int32)\n",
        "tf.print(t)"
      ],
      "metadata": {
        "colab": {
          "base_uri": "https://localhost:8080/"
        },
        "id": "Fx_CkP-IAJXl",
        "outputId": "a6c02bf3-82cc-48ab-9fb4-cb1ba95069c7"
      },
      "execution_count": 17,
      "outputs": [
        {
          "output_type": "stream",
          "name": "stdout",
          "text": [
            "[[4 7 4 2 9]\n",
            " [9 1 2 4 7]\n",
            " [7 2 7 4 0]\n",
            " [9 6 9 7 2]\n",
            " [3 7 0 0 3]]\n"
          ]
        }
      ]
    },
    {
      "cell_type": "code",
      "source": [
        "# 第0行\n",
        "tf.print(t[0])"
      ],
      "metadata": {
        "colab": {
          "base_uri": "https://localhost:8080/"
        },
        "id": "NZyk627dAuGH",
        "outputId": "ee14f5af-15ed-4e58-c955-b6d7a6e8cd45"
      },
      "execution_count": 18,
      "outputs": [
        {
          "output_type": "stream",
          "name": "stdout",
          "text": [
            "[4 7 4 2 9]\n"
          ]
        }
      ]
    },
    {
      "cell_type": "code",
      "source": [
        "# 倒数第一行\n",
        "tf.print(t[-1])"
      ],
      "metadata": {
        "colab": {
          "base_uri": "https://localhost:8080/"
        },
        "id": "MKU4h4vyCcjB",
        "outputId": "19c8f581-ebe3-4660-f842-da88b6cbe804"
      },
      "execution_count": 19,
      "outputs": [
        {
          "output_type": "stream",
          "name": "stdout",
          "text": [
            "[3 7 0 0 3]\n"
          ]
        }
      ]
    },
    {
      "cell_type": "code",
      "source": [
        "# 第一行第三列\n",
        "tf.print(t[1,3])\n",
        "tf.print(t[1][3])"
      ],
      "metadata": {
        "colab": {
          "base_uri": "https://localhost:8080/"
        },
        "id": "bIs0ITitChHi",
        "outputId": "de602ccd-b14c-44fe-d66a-890e15668d48"
      },
      "execution_count": 21,
      "outputs": [
        {
          "output_type": "stream",
          "name": "stdout",
          "text": [
            "4\n",
            "4\n"
          ]
        }
      ]
    },
    {
      "cell_type": "code",
      "source": [
        "# 第一行至第三行\n",
        "tf.print(t[1:4, :])\n",
        "tf.print(tf.slice(t, [1, 0], [3, 5])) # tf.slice(input,begin_vector,size_vector)"
      ],
      "metadata": {
        "colab": {
          "base_uri": "https://localhost:8080/"
        },
        "id": "O8jtE2Y_Cwyt",
        "outputId": "88aeb48b-6100-42e9-b42b-412779b4fe17"
      },
      "execution_count": 22,
      "outputs": [
        {
          "output_type": "stream",
          "name": "stdout",
          "text": [
            "[[9 1 2 4 7]\n",
            " [7 2 7 4 0]\n",
            " [9 6 9 7 2]]\n",
            "[[9 1 2 4 7]\n",
            " [7 2 7 4 0]\n",
            " [9 6 9 7 2]]\n"
          ]
        }
      ]
    },
    {
      "cell_type": "code",
      "source": [
        "#第1行至最后一行，第0列到最后一列每隔两列取一列\n",
        "tf.print(t[1:, ::2])"
      ],
      "metadata": {
        "colab": {
          "base_uri": "https://localhost:8080/"
        },
        "id": "X3YqZcfVC8sU",
        "outputId": "33a74b69-5c4c-4096-c8b6-24b2a81eca8f"
      },
      "execution_count": 23,
      "outputs": [
        {
          "output_type": "stream",
          "name": "stdout",
          "text": [
            "[[9 2 7]\n",
            " [7 7 0]\n",
            " [9 9 2]\n",
            " [3 0 3]]\n"
          ]
        }
      ]
    },
    {
      "cell_type": "code",
      "source": [
        "#对变量来说，还可以使用索引和切片修改部分元素\n",
        "x = tf.Variable([[1,2],[3,4]],dtype = tf.float32)\n",
        "x[1, :].assign(tf.constant([0.0, 0.0]))\n",
        "tf.print(x)"
      ],
      "metadata": {
        "colab": {
          "base_uri": "https://localhost:8080/"
        },
        "id": "h4xgWgUNDIxH",
        "outputId": "7c304ebb-e365-46fa-8999-287b36c4cc43"
      },
      "execution_count": 26,
      "outputs": [
        {
          "output_type": "stream",
          "name": "stdout",
          "text": [
            "[[1 2]\n",
            " [0 0]]\n"
          ]
        }
      ]
    },
    {
      "cell_type": "code",
      "source": [
        "a = tf.random.uniform([3,3,3],minval=0,maxval=10,dtype=tf.int32)\n",
        "tf.print(a)"
      ],
      "metadata": {
        "colab": {
          "base_uri": "https://localhost:8080/"
        },
        "id": "_2bP5M0_DnSY",
        "outputId": "73d03c0c-6032-48e5-86c1-df5deeed4d3c"
      },
      "execution_count": 27,
      "outputs": [
        {
          "output_type": "stream",
          "name": "stdout",
          "text": [
            "[[[7 3 9]\n",
            "  [9 0 7]\n",
            "  [9 6 7]]\n",
            "\n",
            " [[1 3 3]\n",
            "  [0 8 1]\n",
            "  [3 1 0]]\n",
            "\n",
            " [[4 0 6]\n",
            "  [6 2 2]\n",
            "  [7 9 5]]]\n"
          ]
        }
      ]
    },
    {
      "cell_type": "code",
      "source": [
        "#省略号可以表示多个冒号\n",
        "tf.print(a[..., 1])"
      ],
      "metadata": {
        "colab": {
          "base_uri": "https://localhost:8080/"
        },
        "id": "G8Mc4RYbCknH",
        "outputId": "a478348a-9e79-450a-ba1b-92e07b01032a"
      },
      "execution_count": 28,
      "outputs": [
        {
          "output_type": "stream",
          "name": "stdout",
          "text": [
            "[[3 0 6]\n",
            " [3 8 1]\n",
            " [0 2 9]]\n"
          ]
        }
      ]
    },
    {
      "cell_type": "code",
      "source": [
        "scores = tf.random.uniform((4,10,7),minval=0,maxval=100,dtype=tf.int32)\n",
        "tf.print(scores)"
      ],
      "metadata": {
        "colab": {
          "base_uri": "https://localhost:8080/"
        },
        "id": "g7BkbKTI-rjv",
        "outputId": "f816f875-dcb1-4935-a306-bd77575a5aa8"
      },
      "execution_count": 31,
      "outputs": [
        {
          "output_type": "stream",
          "name": "stdout",
          "text": [
            "[[[52 82 66 ... 17 86 14]\n",
            "  [8 36 94 ... 13 78 41]\n",
            "  [77 53 51 ... 22 91 56]\n",
            "  ...\n",
            "  [11 19 26 ... 89 86 68]\n",
            "  [60 72 0 ... 11 26 15]\n",
            "  [24 99 38 ... 97 44 74]]\n",
            "\n",
            " [[79 73 73 ... 35 3 81]\n",
            "  [83 36 31 ... 75 38 85]\n",
            "  [54 26 67 ... 60 68 98]\n",
            "  ...\n",
            "  [20 5 18 ... 32 45 3]\n",
            "  [72 52 81 ... 88 41 20]\n",
            "  [0 21 89 ... 53 10 90]]\n",
            "\n",
            " [[52 80 22 ... 29 25 60]\n",
            "  [78 71 54 ... 43 98 81]\n",
            "  [21 66 53 ... 97 75 77]\n",
            "  ...\n",
            "  [6 74 3 ... 53 65 43]\n",
            "  [98 36 72 ... 33 36 81]\n",
            "  [61 78 70 ... 7 59 21]]\n",
            "\n",
            " [[56 57 45 ... 23 15 3]\n",
            "  [35 8 82 ... 11 59 97]\n",
            "  [44 6 99 ... 81 60 27]\n",
            "  ...\n",
            "  [76 26 35 ... 51 8 17]\n",
            "  [33 52 53 ... 78 37 31]\n",
            "  [71 27 44 ... 0 52 16]]]\n"
          ]
        }
      ]
    },
    {
      "cell_type": "code",
      "source": [
        "#抽取每个班级第0个学生，第5个学生，第9个学生的全部成绩\n",
        "p = tf.gather(scores, [0, 5, 9], axis=1)\n",
        "tf.print(p)"
      ],
      "metadata": {
        "colab": {
          "base_uri": "https://localhost:8080/"
        },
        "id": "lPdF0Z5R-Q5A",
        "outputId": "5f4df869-b665-4b4b-f967-c8747e9a4bf1"
      },
      "execution_count": 33,
      "outputs": [
        {
          "output_type": "stream",
          "name": "stdout",
          "text": [
            "[[[52 82 66 ... 17 86 14]\n",
            "  [24 80 70 ... 72 63 96]\n",
            "  [24 99 38 ... 97 44 74]]\n",
            "\n",
            " [[79 73 73 ... 35 3 81]\n",
            "  [46 10 94 ... 23 18 92]\n",
            "  [0 21 89 ... 53 10 90]]\n",
            "\n",
            " [[52 80 22 ... 29 25 60]\n",
            "  [19 12 23 ... 87 86 25]\n",
            "  [61 78 70 ... 7 59 21]]\n",
            "\n",
            " [[56 57 45 ... 23 15 3]\n",
            "  [6 41 79 ... 97 43 13]\n",
            "  [71 27 44 ... 0 52 16]]]\n"
          ]
        }
      ]
    },
    {
      "cell_type": "code",
      "source": [
        "#抽取每个班级第0个学生，第5个学生，第9个学生的第1门课程，第3门课程，第6门课程成绩\n",
        "q = tf.gather(tf.gather(scores, [0, 5, 9], axis=1), [1, 3, 6], axis=2)\n",
        "tf.print(q)"
      ],
      "metadata": {
        "colab": {
          "base_uri": "https://localhost:8080/"
        },
        "id": "j0b5UHD7FPCQ",
        "outputId": "c150aa02-0b96-46c5-b29b-969187d69fdb"
      },
      "execution_count": 34,
      "outputs": [
        {
          "output_type": "stream",
          "name": "stdout",
          "text": [
            "[[[82 55 14]\n",
            "  [80 46 96]\n",
            "  [99 58 74]]\n",
            "\n",
            " [[73 48 81]\n",
            "  [10 38 92]\n",
            "  [21 86 90]]\n",
            "\n",
            " [[80 57 60]\n",
            "  [12 34 25]\n",
            "  [78 71 21]]\n",
            "\n",
            " [[57 75 3]\n",
            "  [41 47 13]\n",
            "  [27 96 16]]]\n"
          ]
        }
      ]
    },
    {
      "cell_type": "code",
      "source": [
        "# 抽取第0个班级第0个学生，第2个班级的第4个学生，第3个班级的第6个学生的全部成绩\n",
        "#indices的长度为采样样本的个数，每个元素为采样位置的坐标\n",
        "s = tf.gather_nd(scores, indices=[(0, 0), (2, 4), (3, 6)])\n",
        "tf.print(s)"
      ],
      "metadata": {
        "colab": {
          "base_uri": "https://localhost:8080/"
        },
        "id": "0YIW1fvZFf1J",
        "outputId": "7176b528-0f50-445a-b2f8-3442e0948abc"
      },
      "execution_count": 35,
      "outputs": [
        {
          "output_type": "stream",
          "name": "stdout",
          "text": [
            "[[52 82 66 ... 17 86 14]\n",
            " [99 94 46 ... 1 63 41]\n",
            " [46 83 70 ... 90 85 17]]\n"
          ]
        }
      ]
    },
    {
      "cell_type": "code",
      "source": [
        "#抽取每个班级第0个学生，第5个学生，第9个学生的全部成绩\n",
        "p = tf.boolean_mask(scores, [True,False,False,False,False,\n",
        "                            True,False,False,False,True], axis=1)\n",
        "tf.print(p)"
      ],
      "metadata": {
        "colab": {
          "base_uri": "https://localhost:8080/"
        },
        "id": "4KDHK1kcFw5P",
        "outputId": "1416f2e5-f84f-45ee-d798-b913bd6d1275"
      },
      "execution_count": 36,
      "outputs": [
        {
          "output_type": "stream",
          "name": "stdout",
          "text": [
            "[[[52 82 66 ... 17 86 14]\n",
            "  [24 80 70 ... 72 63 96]\n",
            "  [24 99 38 ... 97 44 74]]\n",
            "\n",
            " [[79 73 73 ... 35 3 81]\n",
            "  [46 10 94 ... 23 18 92]\n",
            "  [0 21 89 ... 53 10 90]]\n",
            "\n",
            " [[52 80 22 ... 29 25 60]\n",
            "  [19 12 23 ... 87 86 25]\n",
            "  [61 78 70 ... 7 59 21]]\n",
            "\n",
            " [[56 57 45 ... 23 15 3]\n",
            "  [6 41 79 ... 97 43 13]\n",
            "  [71 27 44 ... 0 52 16]]]\n"
          ]
        }
      ]
    },
    {
      "cell_type": "code",
      "source": [
        "#抽取第0个班级第0个学生，第2个班级的第4个学生，第3个班级的第6个学生的全部成绩\n",
        "s = tf.boolean_mask(scores,\n",
        "    [[True,False,False,False,False,False,False,False,False,False],\n",
        "     [False,False,False,False,False,False,False,False,False,False],\n",
        "     [False,False,False,False,True,False,False,False,False,False],\n",
        "     [False,False,False,False,False,False,True,False,False,False]])\n",
        "tf.print(s)"
      ],
      "metadata": {
        "colab": {
          "base_uri": "https://localhost:8080/"
        },
        "id": "a0PjAtdcF9Vw",
        "outputId": "828358e0-29ac-4dbc-8244-0ba669049363"
      },
      "execution_count": 37,
      "outputs": [
        {
          "output_type": "stream",
          "name": "stdout",
          "text": [
            "[[52 82 66 ... 17 86 14]\n",
            " [99 94 46 ... 1 63 41]\n",
            " [46 83 70 ... 90 85 17]]\n"
          ]
        }
      ]
    },
    {
      "cell_type": "code",
      "source": [
        "#利用tf.boolean_mask可以实现布尔索引\n",
        "\n",
        "#找到矩阵中小于0的元素\n",
        "c = tf.constant([[-1,1,-1],[2,2,-2],[3,-3,3]],dtype=tf.float32)\n",
        "tf.print(c,\"\\n\")\n",
        "\n",
        "tf.print(tf.boolean_mask(c,c<0),\"\\n\") \n",
        "tf.print(c[c<0]) #布尔索引，为boolean_mask的语法糖形式"
      ],
      "metadata": {
        "colab": {
          "base_uri": "https://localhost:8080/"
        },
        "id": "gE3eP0ioGEPR",
        "outputId": "7c88c7cb-b948-4916-e6d3-1f96ed5bfaa5"
      },
      "execution_count": 38,
      "outputs": [
        {
          "output_type": "stream",
          "name": "stdout",
          "text": [
            "[[-1 1 -1]\n",
            " [2 2 -2]\n",
            " [3 -3 3]] \n",
            "\n",
            "[-1 -1 -2 -3] \n",
            "\n",
            "[-1 -1 -2 -3]\n"
          ]
        }
      ]
    },
    {
      "cell_type": "code",
      "source": [
        "#找到张量中小于0的元素,将其换成np.nan得到新的张量\n",
        "#tf.where和np.where作用类似，可以理解为if的张量版本\n",
        "\n",
        "c = tf.constant([[-1,1,-1],[2,2,-2],[3,-3,3]],dtype=tf.float32)\n",
        "d = tf.where(c<0, tf.fill(c.shape, np.nan), c)\n",
        "tf.print(d)"
      ],
      "metadata": {
        "colab": {
          "base_uri": "https://localhost:8080/"
        },
        "id": "zDtjqtIv-JgV",
        "outputId": "64f5c15f-51b9-47a0-8b35-a02c9a1f6d69"
      },
      "execution_count": 39,
      "outputs": [
        {
          "output_type": "stream",
          "name": "stdout",
          "text": [
            "[[nan 1 nan]\n",
            " [2 2 nan]\n",
            " [3 nan 3]]\n"
          ]
        }
      ]
    },
    {
      "cell_type": "code",
      "source": [
        "#如果where只有一个参数，将返回所有满足条件的位置坐标\n",
        "indices = tf.where(c<0)\n",
        "tf.print(indices)"
      ],
      "metadata": {
        "colab": {
          "base_uri": "https://localhost:8080/"
        },
        "id": "2heNpXWZLl3K",
        "outputId": "b0b4a4c8-daae-4957-d43b-9d1b9c494647"
      },
      "execution_count": 40,
      "outputs": [
        {
          "output_type": "stream",
          "name": "stdout",
          "text": [
            "[[0 0]\n",
            " [0 2]\n",
            " [1 2]\n",
            " [2 1]]\n"
          ]
        }
      ]
    },
    {
      "cell_type": "code",
      "source": [
        "#将张量的第[0,0]和[2,1]两个位置元素替换为0得到新的张量\n",
        "d = c - tf.scatter_nd([[0,0],[2,1]],[c[0,0],c[2,1]],c.shape)\n",
        "tf.print(d)"
      ],
      "metadata": {
        "colab": {
          "base_uri": "https://localhost:8080/"
        },
        "id": "OC54sPVtLvxf",
        "outputId": "5db12243-36ed-45cf-b351-c33828d6293d"
      },
      "execution_count": 41,
      "outputs": [
        {
          "output_type": "stream",
          "name": "stdout",
          "text": [
            "[[0 1 -1]\n",
            " [2 2 -2]\n",
            " [3 0 3]]\n"
          ]
        }
      ]
    },
    {
      "cell_type": "code",
      "source": [
        "#scatter_nd的作用和gather_nd有些相反\n",
        "#可以将某些值插入到一个给定shape的全0的张量的指定位置处。\n",
        "indices = tf.where(c<0)\n",
        "tf.scatter_nd(indices, tf.gather_nd(c, indices), c.shape)"
      ],
      "metadata": {
        "colab": {
          "base_uri": "https://localhost:8080/"
        },
        "id": "JO4W607FMF_m",
        "outputId": "1078662d-ed50-4d5f-bb74-2739f5561668"
      },
      "execution_count": 42,
      "outputs": [
        {
          "output_type": "execute_result",
          "data": {
            "text/plain": [
              "<tf.Tensor: shape=(3, 3), dtype=float32, numpy=\n",
              "array([[-1.,  0., -1.],\n",
              "       [ 0.,  0., -2.],\n",
              "       [ 0., -3.,  0.]], dtype=float32)>"
            ]
          },
          "metadata": {},
          "execution_count": 42
        }
      ]
    },
    {
      "cell_type": "markdown",
      "source": [
        "**三、维度变换**"
      ],
      "metadata": {
        "id": "cqLke9LiMf3b"
      }
    },
    {
      "cell_type": "code",
      "source": [
        "a = tf.random.uniform(shape=[1,3,3,2],\n",
        "                      minval=0,maxval=255,dtype=tf.int32)\n",
        "tf.print(a.shape)\n",
        "tf.print(a)"
      ],
      "metadata": {
        "colab": {
          "base_uri": "https://localhost:8080/"
        },
        "id": "f3WW6kXWMjQs",
        "outputId": "7e095364-72c4-441c-96a6-8653535921db"
      },
      "execution_count": 43,
      "outputs": [
        {
          "output_type": "stream",
          "name": "stdout",
          "text": [
            "TensorShape([1, 3, 3, 2])\n",
            "[[[[100 44]\n",
            "   [181 14]\n",
            "   [90 53]]\n",
            "\n",
            "  [[205 141]\n",
            "   [14 24]\n",
            "   [239 46]]\n",
            "\n",
            "  [[225 174]\n",
            "   [212 78]\n",
            "   [14 144]]]]\n"
          ]
        }
      ]
    },
    {
      "cell_type": "code",
      "source": [
        "# 改成 （3,6）形状的张量\n",
        "b = tf.reshape(a, [3, 6])\n",
        "tf.print(b.shape)\n",
        "tf.print(b)"
      ],
      "metadata": {
        "colab": {
          "base_uri": "https://localhost:8080/"
        },
        "id": "x4GVnQOsM1Tu",
        "outputId": "3c5e6589-9972-4b30-8abd-5581bed8db7d"
      },
      "execution_count": 44,
      "outputs": [
        {
          "output_type": "stream",
          "name": "stdout",
          "text": [
            "TensorShape([3, 6])\n",
            "[[100 44 181 14 90 53]\n",
            " [205 141 14 24 239 46]\n",
            " [225 174 212 78 14 144]]\n"
          ]
        }
      ]
    },
    {
      "cell_type": "code",
      "source": [
        "# 改回成 [1,3,3,2] 形状的张量\n",
        "c = tf.reshape(b,[1,3,3,2])\n",
        "tf.print(c)"
      ],
      "metadata": {
        "colab": {
          "base_uri": "https://localhost:8080/"
        },
        "id": "6sTjfpkYM9Ec",
        "outputId": "5708e5eb-04d1-4bf6-c677-e86f3e79cae8"
      },
      "execution_count": 45,
      "outputs": [
        {
          "output_type": "stream",
          "name": "stdout",
          "text": [
            "[[[[100 44]\n",
            "   [181 14]\n",
            "   [90 53]]\n",
            "\n",
            "  [[205 141]\n",
            "   [14 24]\n",
            "   [239 46]]\n",
            "\n",
            "  [[225 174]\n",
            "   [212 78]\n",
            "   [14 144]]]]\n"
          ]
        }
      ]
    },
    {
      "cell_type": "code",
      "source": [
        "s = tf.squeeze(a)\n",
        "tf.print(s.shape)\n",
        "tf.print(s)"
      ],
      "metadata": {
        "colab": {
          "base_uri": "https://localhost:8080/"
        },
        "id": "l-99qkAEM-tD",
        "outputId": "24bfeb23-b261-4c4e-b58b-5f032a3fd7f5"
      },
      "execution_count": 46,
      "outputs": [
        {
          "output_type": "stream",
          "name": "stdout",
          "text": [
            "TensorShape([3, 3, 2])\n",
            "[[[100 44]\n",
            "  [181 14]\n",
            "  [90 53]]\n",
            "\n",
            " [[205 141]\n",
            "  [14 24]\n",
            "  [239 46]]\n",
            "\n",
            " [[225 174]\n",
            "  [212 78]\n",
            "  [14 144]]]\n"
          ]
        }
      ]
    },
    {
      "cell_type": "code",
      "source": [
        "d = tf.expand_dims(s, axis=0) # 在第0维插入长度为1的一个维度\n",
        "tf.print(d)"
      ],
      "metadata": {
        "colab": {
          "base_uri": "https://localhost:8080/"
        },
        "id": "nrO4Kdw3NWyR",
        "outputId": "9928a6a8-9b2c-4b98-a2ee-e2528eae52eb"
      },
      "execution_count": 47,
      "outputs": [
        {
          "output_type": "stream",
          "name": "stdout",
          "text": [
            "[[[[100 44]\n",
            "   [181 14]\n",
            "   [90 53]]\n",
            "\n",
            "  [[205 141]\n",
            "   [14 24]\n",
            "   [239 46]]\n",
            "\n",
            "  [[225 174]\n",
            "   [212 78]\n",
            "   [14 144]]]]\n"
          ]
        }
      ]
    },
    {
      "cell_type": "code",
      "source": [
        "# Batch,Height,Width,Channel\n",
        "a = tf.random.uniform(shape=[100,600,600,4],minval=0,maxval=255,dtype=tf.int32)\n",
        "tf.print(a.shape)\n",
        "\n",
        "# 转换成 Channel,Height,Width,Batch\n",
        "s= tf.transpose(a,perm=[3,1,2,0])\n",
        "tf.print(s.shape)"
      ],
      "metadata": {
        "colab": {
          "base_uri": "https://localhost:8080/"
        },
        "id": "yVxowWpbNc8O",
        "outputId": "120f84e5-15b7-441e-d07b-9a794cd6e768"
      },
      "execution_count": 48,
      "outputs": [
        {
          "output_type": "stream",
          "name": "stdout",
          "text": [
            "TensorShape([100, 600, 600, 4])\n",
            "TensorShape([4, 600, 600, 100])\n"
          ]
        }
      ]
    },
    {
      "cell_type": "markdown",
      "source": [
        "**四、合并分割**"
      ],
      "metadata": {
        "id": "gh3he4ItNo54"
      }
    },
    {
      "cell_type": "code",
      "source": [
        "a = tf.constant([[1.0,2.0],[3.0,4.0]])\n",
        "b = tf.constant([[5.0,6.0],[7.0,8.0]])\n",
        "c = tf.constant([[9.0,10.0],[11.0,12.0]])\n",
        "\n",
        "tf.concat([a,b,c],axis = 0)"
      ],
      "metadata": {
        "colab": {
          "base_uri": "https://localhost:8080/"
        },
        "id": "FaOKm9Y0NnxA",
        "outputId": "77a2dd8d-68c9-433b-9a09-9ab886ee0a08"
      },
      "execution_count": 50,
      "outputs": [
        {
          "output_type": "execute_result",
          "data": {
            "text/plain": [
              "<tf.Tensor: shape=(6, 2), dtype=float32, numpy=\n",
              "array([[ 1.,  2.],\n",
              "       [ 3.,  4.],\n",
              "       [ 5.,  6.],\n",
              "       [ 7.,  8.],\n",
              "       [ 9., 10.],\n",
              "       [11., 12.]], dtype=float32)>"
            ]
          },
          "metadata": {},
          "execution_count": 50
        }
      ]
    },
    {
      "cell_type": "code",
      "source": [
        "tf.concat([a,b,c],axis = 1)"
      ],
      "metadata": {
        "colab": {
          "base_uri": "https://localhost:8080/"
        },
        "id": "VOL_ys0MOJGO",
        "outputId": "d881325f-954f-4a6f-e661-969f07cbdc55"
      },
      "execution_count": 51,
      "outputs": [
        {
          "output_type": "execute_result",
          "data": {
            "text/plain": [
              "<tf.Tensor: shape=(2, 6), dtype=float32, numpy=\n",
              "array([[ 1.,  2.,  5.,  6.,  9., 10.],\n",
              "       [ 3.,  4.,  7.,  8., 11., 12.]], dtype=float32)>"
            ]
          },
          "metadata": {},
          "execution_count": 51
        }
      ]
    },
    {
      "cell_type": "code",
      "source": [
        "tf.stack([a,b,c])"
      ],
      "metadata": {
        "colab": {
          "base_uri": "https://localhost:8080/"
        },
        "id": "8fEfAnKoOMVT",
        "outputId": "98169990-2dfe-4011-d921-4befd2e59b96"
      },
      "execution_count": 52,
      "outputs": [
        {
          "output_type": "execute_result",
          "data": {
            "text/plain": [
              "<tf.Tensor: shape=(3, 2, 2), dtype=float32, numpy=\n",
              "array([[[ 1.,  2.],\n",
              "        [ 3.,  4.]],\n",
              "\n",
              "       [[ 5.,  6.],\n",
              "        [ 7.,  8.]],\n",
              "\n",
              "       [[ 9., 10.],\n",
              "        [11., 12.]]], dtype=float32)>"
            ]
          },
          "metadata": {},
          "execution_count": 52
        }
      ]
    },
    {
      "cell_type": "code",
      "source": [
        "tf.stack([a,b,c],axis=1)"
      ],
      "metadata": {
        "colab": {
          "base_uri": "https://localhost:8080/"
        },
        "id": "Rnz4TzbsOVp2",
        "outputId": "c7f68cd4-d93a-4905-ec6c-bda348d48fc9"
      },
      "execution_count": 53,
      "outputs": [
        {
          "output_type": "execute_result",
          "data": {
            "text/plain": [
              "<tf.Tensor: shape=(2, 3, 2), dtype=float32, numpy=\n",
              "array([[[ 1.,  2.],\n",
              "        [ 5.,  6.],\n",
              "        [ 9., 10.]],\n",
              "\n",
              "       [[ 3.,  4.],\n",
              "        [ 7.,  8.],\n",
              "        [11., 12.]]], dtype=float32)>"
            ]
          },
          "metadata": {},
          "execution_count": 53
        }
      ]
    },
    {
      "cell_type": "code",
      "source": [
        "a = tf.constant([[1.0,2.0],[3.0,4.0]])\n",
        "b = tf.constant([[5.0,6.0],[7.0,8.0]])\n",
        "c = tf.constant([[9.0,10.0],[11.0,12.0]])\n",
        "\n",
        "c = tf.concat([a,b,c],axis = 0)"
      ],
      "metadata": {
        "id": "WMGFIeGdOcuW"
      },
      "execution_count": 54,
      "outputs": []
    },
    {
      "cell_type": "code",
      "source": [
        "#tf.split(value,num_or_size_splits,axis)\n",
        "tf.split(c,3,axis = 0)  #指定分割份数，平均分割"
      ],
      "metadata": {
        "colab": {
          "base_uri": "https://localhost:8080/"
        },
        "id": "x9aB04NAOiMo",
        "outputId": "41c60deb-7583-4bcc-8ebc-d7dbc75f70ed"
      },
      "execution_count": 55,
      "outputs": [
        {
          "output_type": "execute_result",
          "data": {
            "text/plain": [
              "[<tf.Tensor: shape=(2, 2), dtype=float32, numpy=\n",
              " array([[1., 2.],\n",
              "        [3., 4.]], dtype=float32)>,\n",
              " <tf.Tensor: shape=(2, 2), dtype=float32, numpy=\n",
              " array([[5., 6.],\n",
              "        [7., 8.]], dtype=float32)>,\n",
              " <tf.Tensor: shape=(2, 2), dtype=float32, numpy=\n",
              " array([[ 9., 10.],\n",
              "        [11., 12.]], dtype=float32)>]"
            ]
          },
          "metadata": {},
          "execution_count": 55
        }
      ]
    },
    {
      "cell_type": "code",
      "source": [
        "tf.split(c,[2,2,2],axis = 0) #指定每份的记录数量"
      ],
      "metadata": {
        "colab": {
          "base_uri": "https://localhost:8080/"
        },
        "id": "jI0mC6-wOlnJ",
        "outputId": "8b16d97c-cc42-4772-d943-a99ccd96d9bf"
      },
      "execution_count": 56,
      "outputs": [
        {
          "output_type": "execute_result",
          "data": {
            "text/plain": [
              "[<tf.Tensor: shape=(2, 2), dtype=float32, numpy=\n",
              " array([[1., 2.],\n",
              "        [3., 4.]], dtype=float32)>,\n",
              " <tf.Tensor: shape=(2, 2), dtype=float32, numpy=\n",
              " array([[5., 6.],\n",
              "        [7., 8.]], dtype=float32)>,\n",
              " <tf.Tensor: shape=(2, 2), dtype=float32, numpy=\n",
              " array([[ 9., 10.],\n",
              "        [11., 12.]], dtype=float32)>]"
            ]
          },
          "metadata": {},
          "execution_count": 56
        }
      ]
    },
    {
      "cell_type": "code",
      "source": [
        "c.shape"
      ],
      "metadata": {
        "colab": {
          "base_uri": "https://localhost:8080/"
        },
        "id": "-1BJSxhZOoJa",
        "outputId": "dfd68f15-cb3d-4f00-a8cf-d9de50430981"
      },
      "execution_count": 57,
      "outputs": [
        {
          "output_type": "execute_result",
          "data": {
            "text/plain": [
              "TensorShape([6, 2])"
            ]
          },
          "metadata": {},
          "execution_count": 57
        }
      ]
    }
  ]
}