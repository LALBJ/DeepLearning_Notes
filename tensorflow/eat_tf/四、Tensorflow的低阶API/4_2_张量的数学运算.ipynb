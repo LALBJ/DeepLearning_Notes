{
  "nbformat": 4,
  "nbformat_minor": 0,
  "metadata": {
    "colab": {
      "name": "4_2_张量的数学运算.ipynb",
      "provenance": []
    },
    "kernelspec": {
      "name": "python3",
      "display_name": "Python 3"
    },
    "language_info": {
      "name": "python"
    }
  },
  "cells": [
    {
      "cell_type": "markdown",
      "source": [
        "**一、标量运算**"
      ],
      "metadata": {
        "id": "WsC-hMpduhIM"
      }
    },
    {
      "cell_type": "code",
      "execution_count": 1,
      "metadata": {
        "id": "f896y3XStd96"
      },
      "outputs": [],
      "source": [
        "import tensorflow as tf\n",
        "import numpy as np"
      ]
    },
    {
      "cell_type": "code",
      "source": [
        "a = tf.constant([[1.0, 2], [-3, 4.0]])\n",
        "b = tf.constant([[5.0, 6], [7.0, 8.0]])\n",
        "\n",
        "a + b # 运算符重载"
      ],
      "metadata": {
        "colab": {
          "base_uri": "https://localhost:8080/"
        },
        "id": "VjgWWlXKun-h",
        "outputId": "1ab12a87-bbf8-4365-8d54-6f10dfeb26c5"
      },
      "execution_count": 2,
      "outputs": [
        {
          "output_type": "execute_result",
          "data": {
            "text/plain": [
              "<tf.Tensor: shape=(2, 2), dtype=float32, numpy=\n",
              "array([[ 6.,  8.],\n",
              "       [ 4., 12.]], dtype=float32)>"
            ]
          },
          "metadata": {},
          "execution_count": 2
        }
      ]
    },
    {
      "cell_type": "code",
      "source": [
        "a - b"
      ],
      "metadata": {
        "colab": {
          "base_uri": "https://localhost:8080/"
        },
        "id": "QAro80dru63l",
        "outputId": "e1bdd518-e1f7-4010-cbfa-f81f14f8f2a9"
      },
      "execution_count": 3,
      "outputs": [
        {
          "output_type": "execute_result",
          "data": {
            "text/plain": [
              "<tf.Tensor: shape=(2, 2), dtype=float32, numpy=\n",
              "array([[ -4.,  -4.],\n",
              "       [-10.,  -4.]], dtype=float32)>"
            ]
          },
          "metadata": {},
          "execution_count": 3
        }
      ]
    },
    {
      "cell_type": "code",
      "source": [
        "a * b"
      ],
      "metadata": {
        "colab": {
          "base_uri": "https://localhost:8080/"
        },
        "id": "6bybPud_vAyz",
        "outputId": "a5d1d5e9-d311-4628-e9dd-95eadad9efb3"
      },
      "execution_count": 4,
      "outputs": [
        {
          "output_type": "execute_result",
          "data": {
            "text/plain": [
              "<tf.Tensor: shape=(2, 2), dtype=float32, numpy=\n",
              "array([[  5.,  12.],\n",
              "       [-21.,  32.]], dtype=float32)>"
            ]
          },
          "metadata": {},
          "execution_count": 4
        }
      ]
    },
    {
      "cell_type": "code",
      "source": [
        "a / b"
      ],
      "metadata": {
        "colab": {
          "base_uri": "https://localhost:8080/"
        },
        "id": "pTJr2z3OvBjl",
        "outputId": "22288bf0-a83e-4e37-a55d-0df983675190"
      },
      "execution_count": 5,
      "outputs": [
        {
          "output_type": "execute_result",
          "data": {
            "text/plain": [
              "<tf.Tensor: shape=(2, 2), dtype=float32, numpy=\n",
              "array([[ 0.2       ,  0.33333334],\n",
              "       [-0.42857143,  0.5       ]], dtype=float32)>"
            ]
          },
          "metadata": {},
          "execution_count": 5
        }
      ]
    },
    {
      "cell_type": "code",
      "source": [
        "a ** 2"
      ],
      "metadata": {
        "colab": {
          "base_uri": "https://localhost:8080/"
        },
        "id": "jFNMJlhTvCiJ",
        "outputId": "7a2bd63f-2a07-4af4-849e-f4cbfe72c0b7"
      },
      "execution_count": 6,
      "outputs": [
        {
          "output_type": "execute_result",
          "data": {
            "text/plain": [
              "<tf.Tensor: shape=(2, 2), dtype=float32, numpy=\n",
              "array([[ 1.,  4.],\n",
              "       [ 9., 16.]], dtype=float32)>"
            ]
          },
          "metadata": {},
          "execution_count": 6
        }
      ]
    },
    {
      "cell_type": "code",
      "source": [
        "a ** (0.5)"
      ],
      "metadata": {
        "colab": {
          "base_uri": "https://localhost:8080/"
        },
        "id": "J6TIKqn8vEvS",
        "outputId": "2c95c4af-b283-4065-ac4d-35f55c4ff3b8"
      },
      "execution_count": 7,
      "outputs": [
        {
          "output_type": "execute_result",
          "data": {
            "text/plain": [
              "<tf.Tensor: shape=(2, 2), dtype=float32, numpy=\n",
              "array([[1.       , 1.4142135],\n",
              "       [      nan, 2.       ]], dtype=float32)>"
            ]
          },
          "metadata": {},
          "execution_count": 7
        }
      ]
    },
    {
      "cell_type": "code",
      "source": [
        "a % 3"
      ],
      "metadata": {
        "colab": {
          "base_uri": "https://localhost:8080/"
        },
        "id": "7TI_hTv-vHiS",
        "outputId": "ef3f057a-44ef-4748-d169-c7e256b22ecb"
      },
      "execution_count": 8,
      "outputs": [
        {
          "output_type": "execute_result",
          "data": {
            "text/plain": [
              "<tf.Tensor: shape=(2, 2), dtype=float32, numpy=\n",
              "array([[ 1.,  2.],\n",
              "       [-0.,  1.]], dtype=float32)>"
            ]
          },
          "metadata": {},
          "execution_count": 8
        }
      ]
    },
    {
      "cell_type": "code",
      "source": [
        "a // 3 # 地板除法"
      ],
      "metadata": {
        "colab": {
          "base_uri": "https://localhost:8080/"
        },
        "id": "HDDGmU7HvS91",
        "outputId": "79797310-c61b-4c43-efb3-a0c95c72b823"
      },
      "execution_count": 9,
      "outputs": [
        {
          "output_type": "execute_result",
          "data": {
            "text/plain": [
              "<tf.Tensor: shape=(2, 2), dtype=float32, numpy=\n",
              "array([[ 0.,  0.],\n",
              "       [-1.,  1.]], dtype=float32)>"
            ]
          },
          "metadata": {},
          "execution_count": 9
        }
      ]
    },
    {
      "cell_type": "code",
      "source": [
        "a >= 2"
      ],
      "metadata": {
        "colab": {
          "base_uri": "https://localhost:8080/"
        },
        "id": "sbi4VO0SwCkJ",
        "outputId": "00211ae7-fe64-406e-ff9f-865256ee9a50"
      },
      "execution_count": 10,
      "outputs": [
        {
          "output_type": "execute_result",
          "data": {
            "text/plain": [
              "<tf.Tensor: shape=(2, 2), dtype=bool, numpy=\n",
              "array([[False,  True],\n",
              "       [False,  True]])>"
            ]
          },
          "metadata": {},
          "execution_count": 10
        }
      ]
    },
    {
      "cell_type": "code",
      "source": [
        "(a>=2)&(a<=3)"
      ],
      "metadata": {
        "colab": {
          "base_uri": "https://localhost:8080/"
        },
        "id": "Fgr4L1oRw0e1",
        "outputId": "be46f3b6-d32b-408d-d3cd-7c5852e4739b"
      },
      "execution_count": 11,
      "outputs": [
        {
          "output_type": "execute_result",
          "data": {
            "text/plain": [
              "<tf.Tensor: shape=(2, 2), dtype=bool, numpy=\n",
              "array([[False,  True],\n",
              "       [False, False]])>"
            ]
          },
          "metadata": {},
          "execution_count": 11
        }
      ]
    },
    {
      "cell_type": "code",
      "source": [
        "(a>=2)|(a<=3)"
      ],
      "metadata": {
        "colab": {
          "base_uri": "https://localhost:8080/"
        },
        "id": "AHJMQ9y-w4bJ",
        "outputId": "f3cf8ecc-371a-4336-9ad6-3733ebf73bbe"
      },
      "execution_count": 12,
      "outputs": [
        {
          "output_type": "execute_result",
          "data": {
            "text/plain": [
              "<tf.Tensor: shape=(2, 2), dtype=bool, numpy=\n",
              "array([[ True,  True],\n",
              "       [ True,  True]])>"
            ]
          },
          "metadata": {},
          "execution_count": 12
        }
      ]
    },
    {
      "cell_type": "code",
      "source": [
        "a == 5 # tf.equal(a, 5)"
      ],
      "metadata": {
        "colab": {
          "base_uri": "https://localhost:8080/"
        },
        "id": "SiB9h4O1w6GX",
        "outputId": "5e9b1287-607e-45cf-df4e-a939b7dd4664"
      },
      "execution_count": 13,
      "outputs": [
        {
          "output_type": "execute_result",
          "data": {
            "text/plain": [
              "<tf.Tensor: shape=(2, 2), dtype=bool, numpy=\n",
              "array([[False, False],\n",
              "       [False, False]])>"
            ]
          },
          "metadata": {},
          "execution_count": 13
        }
      ]
    },
    {
      "cell_type": "code",
      "source": [
        "tf.sqrt(a)"
      ],
      "metadata": {
        "colab": {
          "base_uri": "https://localhost:8080/"
        },
        "id": "UMA3_svAxE_d",
        "outputId": "da2a4473-cd43-47f0-e006-20e63dbe94d3"
      },
      "execution_count": 14,
      "outputs": [
        {
          "output_type": "execute_result",
          "data": {
            "text/plain": [
              "<tf.Tensor: shape=(2, 2), dtype=float32, numpy=\n",
              "array([[1.       , 1.4142135],\n",
              "       [      nan, 2.       ]], dtype=float32)>"
            ]
          },
          "metadata": {},
          "execution_count": 14
        }
      ]
    },
    {
      "cell_type": "code",
      "source": [
        "a = tf.constant([1.0,8.0])\n",
        "b = tf.constant([5.0,6.0])\n",
        "c = tf.constant([6.0,7.0])\n",
        "tf.add_n([a,b,c])"
      ],
      "metadata": {
        "colab": {
          "base_uri": "https://localhost:8080/"
        },
        "id": "wVfbwYikxPNq",
        "outputId": "61d7c206-14c9-46ef-f6bb-a0362243eb76"
      },
      "execution_count": 15,
      "outputs": [
        {
          "output_type": "execute_result",
          "data": {
            "text/plain": [
              "<tf.Tensor: shape=(2,), dtype=float32, numpy=array([12., 21.], dtype=float32)>"
            ]
          },
          "metadata": {},
          "execution_count": 15
        }
      ]
    },
    {
      "cell_type": "code",
      "source": [
        "tf.print(tf.maximum(a, b))"
      ],
      "metadata": {
        "colab": {
          "base_uri": "https://localhost:8080/"
        },
        "id": "Y3FzTwaFxRlh",
        "outputId": "0d5a65e8-a38f-4252-9cb7-837bee591ce7"
      },
      "execution_count": 16,
      "outputs": [
        {
          "output_type": "stream",
          "name": "stdout",
          "text": [
            "[5 8]\n"
          ]
        }
      ]
    },
    {
      "cell_type": "code",
      "source": [
        "tf.print(tf.minimum(a, b))"
      ],
      "metadata": {
        "colab": {
          "base_uri": "https://localhost:8080/"
        },
        "id": "NuUTepXPybut",
        "outputId": "75875bff-0449-496a-e8ac-73e2557cb3a7"
      },
      "execution_count": 17,
      "outputs": [
        {
          "output_type": "stream",
          "name": "stdout",
          "text": [
            "[1 6]\n"
          ]
        }
      ]
    },
    {
      "cell_type": "code",
      "source": [
        "x = tf.constant([2.6, -2.7])\n",
        "tf.print(tf.math.round(x))\n",
        "tf.print(tf.math.floor(x))\n",
        "tf.print(tf.math.ceil(x))"
      ],
      "metadata": {
        "colab": {
          "base_uri": "https://localhost:8080/"
        },
        "id": "HrZQdD7GykOx",
        "outputId": "16178c56-cd8c-498d-b346-2560d3ad4eb3"
      },
      "execution_count": 18,
      "outputs": [
        {
          "output_type": "stream",
          "name": "stdout",
          "text": [
            "[3 -3]\n",
            "[2 -3]\n",
            "[3 -2]\n"
          ]
        }
      ]
    },
    {
      "cell_type": "code",
      "source": [
        "# 幅值裁剪\n",
        "x = tf.constant([0.9, -0.8, 100.0, -20.0, 0.7])\n",
        "y = tf.clip_by_value(x,clip_value_min=-1,clip_value_max=1)\n",
        "z = tf.clip_by_norm(x,clip_norm = 3)\n",
        "tf.print(y)\n",
        "tf.print(z)"
      ],
      "metadata": {
        "colab": {
          "base_uri": "https://localhost:8080/"
        },
        "id": "Mhw9HmAVy9iC",
        "outputId": "1b583b5c-ca66-4e5f-8fef-78a8c961ab5c"
      },
      "execution_count": 19,
      "outputs": [
        {
          "output_type": "stream",
          "name": "stdout",
          "text": [
            "[0.9 -0.8 1 -1 0.7]\n",
            "[0.0264732055 -0.0235317405 2.94146752 -0.588293493 0.0205902718]\n"
          ]
        }
      ]
    },
    {
      "cell_type": "markdown",
      "source": [
        "**二、向量运算**"
      ],
      "metadata": {
        "id": "RtWCM61C97r4"
      }
    },
    {
      "cell_type": "code",
      "source": [
        "# 向量 reduce\n",
        "a = tf.range(1, 10)\n",
        "tf.print(tf.reduce_sum(a))\n",
        "tf.print(tf.reduce_mean(a))\n",
        "tf.print(tf.reduce_max(a))\n",
        "tf.print(tf.reduce_min(a))\n",
        "tf.print(tf.reduce_prod(a))"
      ],
      "metadata": {
        "colab": {
          "base_uri": "https://localhost:8080/"
        },
        "id": "G6Exj3np0D06",
        "outputId": "997dc9e8-1617-48d0-c602-675345aaeefd"
      },
      "execution_count": 20,
      "outputs": [
        {
          "output_type": "stream",
          "name": "stdout",
          "text": [
            "45\n",
            "5\n",
            "9\n",
            "1\n",
            "362880\n"
          ]
        }
      ]
    },
    {
      "cell_type": "code",
      "source": [
        "# 张量指定维度 reduce\n",
        "b = tf.reshape(a, (3, 3))\n",
        "tf.print(tf.reduce_sum(b, axis=1, keepdims=True))\n",
        "tf.print(tf.reduce_sum(b, axis=0, keepdims=True))"
      ],
      "metadata": {
        "colab": {
          "base_uri": "https://localhost:8080/"
        },
        "id": "v9mE_Zfr-PbZ",
        "outputId": "e666492b-200e-440b-cac7-8183e0a8917b"
      },
      "execution_count": 21,
      "outputs": [
        {
          "output_type": "stream",
          "name": "stdout",
          "text": [
            "[[6]\n",
            " [15]\n",
            " [24]]\n",
            "[[12 15 18]]\n"
          ]
        }
      ]
    },
    {
      "cell_type": "code",
      "source": [
        "# bool 类型的 reduce\n",
        "p = tf.constant([True, False, False])\n",
        "q = tf.constant([False, False, True])\n",
        "tf.print(tf.reduce_all(p))\n",
        "tf.print(tf.reduce_any(q))"
      ],
      "metadata": {
        "colab": {
          "base_uri": "https://localhost:8080/"
        },
        "id": "Z77Oed4k_Hx-",
        "outputId": "d50426e1-d218-4ae1-b3a3-f01ebfac24f3"
      },
      "execution_count": 22,
      "outputs": [
        {
          "output_type": "stream",
          "name": "stdout",
          "text": [
            "0\n",
            "1\n"
          ]
        }
      ]
    },
    {
      "cell_type": "code",
      "source": [
        "# 利用 tf.foldr 实现 tf.reduce_sum\n",
        "s = tf.foldr(lambda a, b: a+b, tf.range(10))\n",
        "tf.print(s)"
      ],
      "metadata": {
        "colab": {
          "base_uri": "https://localhost:8080/"
        },
        "id": "MEXaCCB-_uWK",
        "outputId": "a835ff8f-0089-42f5-944e-085b5d2aa7ec"
      },
      "execution_count": 23,
      "outputs": [
        {
          "output_type": "stream",
          "name": "stdout",
          "text": [
            "45\n"
          ]
        }
      ]
    },
    {
      "cell_type": "code",
      "source": [
        "# cum 扫描累积\n",
        "a = tf.range(1, 10)\n",
        "tf.print(tf.math.cumsum(a))\n",
        "tf.print(tf.math.cumprod(a))"
      ],
      "metadata": {
        "colab": {
          "base_uri": "https://localhost:8080/"
        },
        "id": "uu6Bcsy7C9FN",
        "outputId": "cd17dec5-78e4-487b-9391-4ef98950257e"
      },
      "execution_count": 24,
      "outputs": [
        {
          "output_type": "stream",
          "name": "stdout",
          "text": [
            "[1 3 6 ... 28 36 45]\n",
            "[1 2 6 ... 5040 40320 362880]\n"
          ]
        }
      ]
    },
    {
      "cell_type": "code",
      "source": [
        "# arg 最大最小值索引\n",
        "a = tf.range(1, 10)\n",
        "tf.print(tf.argmax(a))\n",
        "tf.print(tf.argmin(a))"
      ],
      "metadata": {
        "colab": {
          "base_uri": "https://localhost:8080/"
        },
        "id": "9-KXsyXgDFEt",
        "outputId": "dc6e2c39-1f0d-4e46-a3b2-36148cd19787"
      },
      "execution_count": 25,
      "outputs": [
        {
          "output_type": "stream",
          "name": "stdout",
          "text": [
            "8\n",
            "0\n"
          ]
        }
      ]
    },
    {
      "cell_type": "code",
      "source": [
        "# tf.math.top_k 可以用于对张量排序\n",
        "a = tf.constant([1, 3, 7, 5, 4, 8])\n",
        "\n",
        "values, indices = tf.math.top_k(a, 3, sorted=True)\n",
        "tf.print(values)\n",
        "tf.print(indices)"
      ],
      "metadata": {
        "colab": {
          "base_uri": "https://localhost:8080/"
        },
        "id": "ZMzX1fhyDUXi",
        "outputId": "4c886bbe-059c-4d46-9e41-0d2baca420eb"
      },
      "execution_count": 26,
      "outputs": [
        {
          "output_type": "stream",
          "name": "stdout",
          "text": [
            "[8 7 5]\n",
            "[5 2 3]\n"
          ]
        }
      ]
    },
    {
      "cell_type": "markdown",
      "source": [
        "**三、矩阵运算**"
      ],
      "metadata": {
        "id": "YHSKRwU8Dx7u"
      }
    },
    {
      "cell_type": "code",
      "source": [
        "# 矩阵乘法\n",
        "a = tf.constant([[1, 2], [3, 4]])\n",
        "b = tf.constant([[2, 0], [0, 2]])\n",
        "a@b "
      ],
      "metadata": {
        "colab": {
          "base_uri": "https://localhost:8080/"
        },
        "id": "8SkCrNmSDsRJ",
        "outputId": "74716662-758d-4f6f-f933-1b810e3dc3de"
      },
      "execution_count": 27,
      "outputs": [
        {
          "output_type": "execute_result",
          "data": {
            "text/plain": [
              "<tf.Tensor: shape=(2, 2), dtype=int32, numpy=\n",
              "array([[2, 4],\n",
              "       [6, 8]], dtype=int32)>"
            ]
          },
          "metadata": {},
          "execution_count": 27
        }
      ]
    },
    {
      "cell_type": "code",
      "source": [
        "# 矩阵转置\n",
        "a = tf.constant([[1, 2], [3, 4]])\n",
        "tf.transpose(a)"
      ],
      "metadata": {
        "colab": {
          "base_uri": "https://localhost:8080/"
        },
        "id": "fXfZ2lbk3_u2",
        "outputId": "368a6236-7566-4368-ab47-d5e7aeb24aab"
      },
      "execution_count": 28,
      "outputs": [
        {
          "output_type": "execute_result",
          "data": {
            "text/plain": [
              "<tf.Tensor: shape=(2, 2), dtype=int32, numpy=\n",
              "array([[1, 3],\n",
              "       [2, 4]], dtype=int32)>"
            ]
          },
          "metadata": {},
          "execution_count": 28
        }
      ]
    },
    {
      "cell_type": "code",
      "source": [
        "# 矩阵逆，必须为 tf.float32 或 tf.double 类型\n",
        "a = tf.constant([[1.0, 2], [3, 4]], dtype=tf.float32)\n",
        "tf.linalg.inv(a)"
      ],
      "metadata": {
        "colab": {
          "base_uri": "https://localhost:8080/"
        },
        "id": "EVX-ovUl4LFM",
        "outputId": "97087ab5-0474-4f1e-a94b-537b3ed7a075"
      },
      "execution_count": 29,
      "outputs": [
        {
          "output_type": "execute_result",
          "data": {
            "text/plain": [
              "<tf.Tensor: shape=(2, 2), dtype=float32, numpy=\n",
              "array([[-2.0000002 ,  1.0000001 ],\n",
              "       [ 1.5000001 , -0.50000006]], dtype=float32)>"
            ]
          },
          "metadata": {},
          "execution_count": 29
        }
      ]
    },
    {
      "cell_type": "code",
      "source": [
        "# 矩阵求 trace\n",
        "a = tf.constant([[1.0,2],[3,4]],dtype = tf.float32)\n",
        "tf.linalg.trace(a)"
      ],
      "metadata": {
        "colab": {
          "base_uri": "https://localhost:8080/"
        },
        "id": "mAyy2d4q4cEI",
        "outputId": "6c79f30c-e523-44b2-b1e8-0257efebb724"
      },
      "execution_count": 30,
      "outputs": [
        {
          "output_type": "execute_result",
          "data": {
            "text/plain": [
              "<tf.Tensor: shape=(), dtype=float32, numpy=5.0>"
            ]
          },
          "metadata": {},
          "execution_count": 30
        }
      ]
    },
    {
      "cell_type": "code",
      "source": [
        "# 矩阵求范数\n",
        "a = tf.constant([[1.0, 2], [3, 4]])\n",
        "tf.linalg.norm(a)"
      ],
      "metadata": {
        "colab": {
          "base_uri": "https://localhost:8080/"
        },
        "id": "V8ISIAgG4khY",
        "outputId": "c83df231-97b6-40fd-c18e-27b60ba51ac7"
      },
      "execution_count": 31,
      "outputs": [
        {
          "output_type": "execute_result",
          "data": {
            "text/plain": [
              "<tf.Tensor: shape=(), dtype=float32, numpy=5.477226>"
            ]
          },
          "metadata": {},
          "execution_count": 31
        }
      ]
    },
    {
      "cell_type": "code",
      "source": [
        "# 矩阵行列式\n",
        "a = tf.constant([[1.0, 2], [3, 4]])\n",
        "tf.linalg.det(a)"
      ],
      "metadata": {
        "colab": {
          "base_uri": "https://localhost:8080/"
        },
        "id": "UhNgBPUC4_iK",
        "outputId": "0019514f-08c8-4096-b3d6-b0cdf7a1d1e1"
      },
      "execution_count": 32,
      "outputs": [
        {
          "output_type": "execute_result",
          "data": {
            "text/plain": [
              "<tf.Tensor: shape=(), dtype=float32, numpy=-2.0>"
            ]
          },
          "metadata": {},
          "execution_count": 32
        }
      ]
    },
    {
      "cell_type": "code",
      "source": [
        "# 矩阵特征值\n",
        "a = tf.constant([[1.0, 2], [-5, 4]])\n",
        "tf.linalg.eigvals(a)"
      ],
      "metadata": {
        "colab": {
          "base_uri": "https://localhost:8080/"
        },
        "id": "H02AtnrJ_5xf",
        "outputId": "d5dd2bd7-7406-451e-af98-a0b52060262b"
      },
      "execution_count": 33,
      "outputs": [
        {
          "output_type": "execute_result",
          "data": {
            "text/plain": [
              "<tf.Tensor: shape=(2,), dtype=complex64, numpy=array([2.4999995+2.7838817j, 2.5      -2.783882j ], dtype=complex64)>"
            ]
          },
          "metadata": {},
          "execution_count": 33
        }
      ]
    },
    {
      "cell_type": "markdown",
      "source": [
        "**四、广播机制**"
      ],
      "metadata": {
        "id": "8rzBO9x2BWLc"
      }
    },
    {
      "cell_type": "code",
      "source": [
        "a = tf.constant([1,2,3])\n",
        "b = tf.constant([[0,0,0],[1,1,1],[2,2,2]])\n",
        "b + a"
      ],
      "metadata": {
        "colab": {
          "base_uri": "https://localhost:8080/"
        },
        "id": "bIaqSJxXA0fd",
        "outputId": "aa88ffd3-3046-4139-9c71-99cdade617f1"
      },
      "execution_count": 36,
      "outputs": [
        {
          "output_type": "execute_result",
          "data": {
            "text/plain": [
              "<tf.Tensor: shape=(3, 3), dtype=int32, numpy=\n",
              "array([[1, 2, 3],\n",
              "       [2, 3, 4],\n",
              "       [3, 4, 5]], dtype=int32)>"
            ]
          },
          "metadata": {},
          "execution_count": 36
        }
      ]
    },
    {
      "cell_type": "code",
      "source": [
        "tf.broadcast_to(a,b.shape)"
      ],
      "metadata": {
        "colab": {
          "base_uri": "https://localhost:8080/"
        },
        "id": "OU2XxCsQBxIq",
        "outputId": "65602303-fafa-44fd-95a7-9b8e878f9f0f"
      },
      "execution_count": 37,
      "outputs": [
        {
          "output_type": "execute_result",
          "data": {
            "text/plain": [
              "<tf.Tensor: shape=(3, 3), dtype=int32, numpy=\n",
              "array([[1, 2, 3],\n",
              "       [1, 2, 3],\n",
              "       [1, 2, 3]], dtype=int32)>"
            ]
          },
          "metadata": {},
          "execution_count": 37
        }
      ]
    },
    {
      "cell_type": "code",
      "source": [
        "#计算广播后计算结果的形状，静态形状，TensorShape类型参数\n",
        "tf.broadcast_static_shape(a.shape,b.shape)"
      ],
      "metadata": {
        "colab": {
          "base_uri": "https://localhost:8080/"
        },
        "id": "2ZtzhmuBB4LM",
        "outputId": "4b8c075e-0361-456a-9d73-b5121fad506a"
      },
      "execution_count": 38,
      "outputs": [
        {
          "output_type": "execute_result",
          "data": {
            "text/plain": [
              "TensorShape([3, 3])"
            ]
          },
          "metadata": {},
          "execution_count": 38
        }
      ]
    },
    {
      "cell_type": "code",
      "source": [
        "#计算广播后计算结果的形状，动态形状，Tensor类型参数\n",
        "c = tf.constant([1,2,3])\n",
        "d = tf.constant([[1],[2],[3]])\n",
        "tf.broadcast_dynamic_shape(tf.shape(c),tf.shape(d))"
      ],
      "metadata": {
        "colab": {
          "base_uri": "https://localhost:8080/"
        },
        "id": "L1Gt4n5AB72Q",
        "outputId": "ad0859ee-1688-4209-a078-333074c05211"
      },
      "execution_count": 39,
      "outputs": [
        {
          "output_type": "execute_result",
          "data": {
            "text/plain": [
              "<tf.Tensor: shape=(2,), dtype=int32, numpy=array([3, 3], dtype=int32)>"
            ]
          },
          "metadata": {},
          "execution_count": 39
        }
      ]
    },
    {
      "cell_type": "code",
      "source": [
        "#广播效果\n",
        "c+d #等价于 tf.broadcast_to(c,[3,3]) + tf.broadcast_to(d,[3,3])"
      ],
      "metadata": {
        "id": "LwCwtb6ICYSF",
        "outputId": "22dc2121-5949-4d1c-c717-f7b05a33ac0d",
        "colab": {
          "base_uri": "https://localhost:8080/"
        }
      },
      "execution_count": 41,
      "outputs": [
        {
          "output_type": "execute_result",
          "data": {
            "text/plain": [
              "<tf.Tensor: shape=(3, 3), dtype=int32, numpy=\n",
              "array([[2, 3, 4],\n",
              "       [3, 4, 5],\n",
              "       [4, 5, 6]], dtype=int32)>"
            ]
          },
          "metadata": {},
          "execution_count": 41
        }
      ]
    }
  ]
}