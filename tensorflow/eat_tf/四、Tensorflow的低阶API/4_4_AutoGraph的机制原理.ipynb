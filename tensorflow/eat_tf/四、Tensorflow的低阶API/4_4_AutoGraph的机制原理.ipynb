{
  "nbformat": 4,
  "nbformat_minor": 0,
  "metadata": {
    "colab": {
      "name": "4_4_AutoGraph的机制原理.ipynb",
      "provenance": []
    },
    "kernelspec": {
      "name": "python3",
      "display_name": "Python 3"
    },
    "language_info": {
      "name": "python"
    }
  },
  "cells": [
    {
      "cell_type": "markdown",
      "source": [
        "**一、 AutoGraph的机制原理**\n"
      ],
      "metadata": {
        "id": "YwiE-enjVpdM"
      }
    },
    {
      "cell_type": "code",
      "execution_count": 1,
      "metadata": {
        "id": "yjop9AtBVNBM"
      },
      "outputs": [],
      "source": [
        "import tensorflow as tf\n",
        "import numpy as np\n",
        "\n",
        "@tf.function(autograph=True)\n",
        "def myadd(a, b):\n",
        "    for i in tf.range(3):\n",
        "        tf.print(i)\n",
        "    c = a+b\n",
        "    print(\"tracing\")\n",
        "    return c"
      ]
    },
    {
      "cell_type": "code",
      "source": [
        "myadd(tf.constant(\"hello\"),tf.constant(\"world\"))"
      ],
      "metadata": {
        "colab": {
          "base_uri": "https://localhost:8080/"
        },
        "id": "7T1himajV9th",
        "outputId": "861fd4e4-ca26-4463-8fbf-4f267de5faae"
      },
      "execution_count": 2,
      "outputs": [
        {
          "output_type": "stream",
          "name": "stdout",
          "text": [
            "tracing\n",
            "0\n",
            "1\n",
            "2\n"
          ]
        },
        {
          "output_type": "execute_result",
          "data": {
            "text/plain": [
              "<tf.Tensor: shape=(), dtype=string, numpy=b'helloworld'>"
            ]
          },
          "metadata": {},
          "execution_count": 2
        }
      ]
    },
    {
      "cell_type": "code",
      "source": [
        "myadd(\"hello\",\"world\")\n",
        "myadd(\"good\",\"morning\")"
      ],
      "metadata": {
        "colab": {
          "base_uri": "https://localhost:8080/"
        },
        "id": "k-x5O_NNWGqD",
        "outputId": "00b031b9-f4d9-4d8a-ce7a-01d3eaed978a"
      },
      "execution_count": 3,
      "outputs": [
        {
          "output_type": "stream",
          "name": "stdout",
          "text": [
            "tracing\n",
            "0\n",
            "1\n",
            "2\n",
            "tracing\n",
            "0\n",
            "1\n",
            "2\n"
          ]
        },
        {
          "output_type": "execute_result",
          "data": {
            "text/plain": [
              "<tf.Tensor: shape=(), dtype=string, numpy=b'goodmorning'>"
            ]
          },
          "metadata": {},
          "execution_count": 3
        }
      ]
    },
    {
      "cell_type": "markdown",
      "source": [
        "**二、重新理解 Autograph 编码规范**"
      ],
      "metadata": {
        "id": "oX1LSZK8XzBg"
      }
    },
    {
      "cell_type": "code",
      "source": [
        ""
      ],
      "metadata": {
        "id": "q8CnJJKdXyCH"
      },
      "execution_count": null,
      "outputs": []
    }
  ]
}