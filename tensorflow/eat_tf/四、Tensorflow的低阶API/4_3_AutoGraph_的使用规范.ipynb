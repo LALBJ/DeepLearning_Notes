{
  "nbformat": 4,
  "nbformat_minor": 0,
  "metadata": {
    "colab": {
      "name": "4_3_AutoGraph 的使用规范.ipynb",
      "provenance": []
    },
    "kernelspec": {
      "name": "python3",
      "display_name": "Python 3"
    },
    "language_info": {
      "name": "python"
    }
  },
  "cells": [
    {
      "cell_type": "markdown",
      "source": [
        "**二、Autograph 编码规范解析**"
      ],
      "metadata": {
        "id": "EUWCNjhrFG0p"
      }
    },
    {
      "cell_type": "markdown",
      "source": [
        "1，被@tf.function修饰的函数应尽量使用TensorFlow中的函数而不是Python中的其他函数。"
      ],
      "metadata": {
        "id": "7hVHyLMnFUbp"
      }
    },
    {
      "cell_type": "code",
      "execution_count": 2,
      "metadata": {
        "id": "kawnaotNEAP8"
      },
      "outputs": [],
      "source": [
        "import numpy as np\n",
        "import tensorflow as tf\n",
        "\n",
        "@tf.function\n",
        "def np_random():\n",
        "    a = np.random.randn(3, 3)\n",
        "    tf.print(a)\n",
        "\n",
        "@tf.function\n",
        "def tf_random():\n",
        "    a = tf.random.normal((3, 3))\n",
        "    tf.print(a)"
      ]
    },
    {
      "cell_type": "code",
      "source": [
        "#np_random每次执行都是一样的结果。\n",
        "np_random()\n",
        "np_random()"
      ],
      "metadata": {
        "colab": {
          "base_uri": "https://localhost:8080/"
        },
        "id": "cveiVm91Yak8",
        "outputId": "2b929589-74c5-4cff-e9a4-97f05c1931ef"
      },
      "execution_count": 3,
      "outputs": [
        {
          "output_type": "stream",
          "name": "stdout",
          "text": [
            "array([[-0.74147446,  0.02272686, -1.68799382],\n",
            "       [ 1.25273082, -0.19600605,  0.55517137],\n",
            "       [ 0.61911347,  0.76474877,  0.80281486]])\n",
            "array([[-0.74147446,  0.02272686, -1.68799382],\n",
            "       [ 1.25273082, -0.19600605,  0.55517137],\n",
            "       [ 0.61911347,  0.76474877,  0.80281486]])\n"
          ]
        }
      ]
    },
    {
      "cell_type": "code",
      "source": [
        "#tf_random每次执行都会有重新生成随机数。\n",
        "tf_random()\n",
        "tf_random()"
      ],
      "metadata": {
        "colab": {
          "base_uri": "https://localhost:8080/"
        },
        "id": "wTb7yOJQYcTl",
        "outputId": "97acfc2f-e2af-45b7-acf3-f2565c74820a"
      },
      "execution_count": 4,
      "outputs": [
        {
          "output_type": "stream",
          "name": "stdout",
          "text": [
            "[[-1.78259957 -1.32271802 0.361095369]\n",
            " [-0.695781827 0.395475268 1.0455786]\n",
            " [1.63477051 -1.41514432 0.287649274]]\n",
            "[[-0.58198452 0.0279216096 -0.928096175]\n",
            " [-0.681594849 -1.02384984 -1.22003853]\n",
            " [0.96960175 -1.00373185 0.0429180935]]\n"
          ]
        }
      ]
    },
    {
      "cell_type": "markdown",
      "source": [
        "2，避免在@tf.function修饰的函数内部定义tf.Variable."
      ],
      "metadata": {
        "id": "Yuobd6_VYk-E"
      }
    },
    {
      "cell_type": "code",
      "source": [
        "x = tf.Variable(1.0, dtype=tf.float32)\n",
        "@tf.function\n",
        "def outer_var():\n",
        "    x.assign_add(1.0)\n",
        "    tf.print(x)\n",
        "    return (x)\n",
        "\n",
        "outer_var()\n",
        "outer_var()"
      ],
      "metadata": {
        "colab": {
          "base_uri": "https://localhost:8080/"
        },
        "id": "D9R7EygeYd3F",
        "outputId": "9fadbf70-2243-4119-b2e2-b9a60249b750"
      },
      "execution_count": 5,
      "outputs": [
        {
          "output_type": "stream",
          "name": "stdout",
          "text": [
            "2\n",
            "3\n"
          ]
        },
        {
          "output_type": "execute_result",
          "data": {
            "text/plain": [
              "<tf.Tensor: shape=(), dtype=float32, numpy=3.0>"
            ]
          },
          "metadata": {},
          "execution_count": 5
        }
      ]
    },
    {
      "cell_type": "code",
      "source": [
        "@tf.function\n",
        "def inner_var():\n",
        "    x = tf.Variable(1.0,dtype = tf.float32)\n",
        "    x.assign_add(1.0)\n",
        "    tf.print(x)\n",
        "    return(x)\n",
        "\n",
        "#执行将报错\n",
        "# inner_var()\n",
        "# inner_var()"
      ],
      "metadata": {
        "id": "dusTlpR-aHTI"
      },
      "execution_count": 6,
      "outputs": []
    },
    {
      "cell_type": "markdown",
      "source": [
        "3,被@tf.function修饰的函数不可修改该函数外部的Python列表或字典等结构类型变量。"
      ],
      "metadata": {
        "id": "S8p48GVHaVev"
      }
    },
    {
      "cell_type": "code",
      "source": [
        "tensor_list = []\n",
        "\n",
        "#@tf.function #加上这一行切换成Autograph结果将不符合预期！！！\n",
        "def append_tensor(x):\n",
        "    tensor_list.append(x)\n",
        "    return tensor_list\n",
        "\n",
        "append_tensor(tf.constant(5.0))\n",
        "append_tensor(tf.constant(6.0))\n",
        "print(tensor_list)"
      ],
      "metadata": {
        "colab": {
          "base_uri": "https://localhost:8080/"
        },
        "id": "-AXub5qmaRTr",
        "outputId": "083ad3e7-4fed-493a-e32d-6646c10d8158"
      },
      "execution_count": 7,
      "outputs": [
        {
          "output_type": "stream",
          "name": "stdout",
          "text": [
            "[<tf.Tensor: shape=(), dtype=float32, numpy=5.0>, <tf.Tensor: shape=(), dtype=float32, numpy=6.0>]\n"
          ]
        }
      ]
    },
    {
      "cell_type": "code",
      "source": [
        "tensor_list = []\n",
        "\n",
        "@tf.function #加上这一行切换成Autograph结果将不符合预期！！！\n",
        "def append_tensor(x):\n",
        "    tensor_list.append(x)\n",
        "    return tensor_list\n",
        "\n",
        "\n",
        "append_tensor(tf.constant(5.0))\n",
        "append_tensor(tf.constant(6.0))\n",
        "print(tensor_list)\n"
      ],
      "metadata": {
        "colab": {
          "base_uri": "https://localhost:8080/"
        },
        "id": "LfADMwjgUw6U",
        "outputId": "9c1d8a7a-742a-4cfa-9ea2-8a4d73f608ce"
      },
      "execution_count": 8,
      "outputs": [
        {
          "output_type": "stream",
          "name": "stdout",
          "text": [
            "[<tf.Tensor 'x:0' shape=() dtype=float32>]\n"
          ]
        }
      ]
    }
  ]
}