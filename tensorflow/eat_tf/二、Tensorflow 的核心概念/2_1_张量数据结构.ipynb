{
  "nbformat": 4,
  "nbformat_minor": 0,
  "metadata": {
    "colab": {
      "name": "2_1_张量数据结构.ipynb",
      "provenance": []
    },
    "kernelspec": {
      "name": "python3",
      "display_name": "Python 3"
    },
    "language_info": {
      "name": "python"
    }
  },
  "cells": [
    {
      "cell_type": "markdown",
      "source": [
        "**一、常量张量**"
      ],
      "metadata": {
        "id": "MkFheC0AtzMR"
      }
    },
    {
      "cell_type": "code",
      "execution_count": 1,
      "metadata": {
        "colab": {
          "base_uri": "https://localhost:8080/"
        },
        "id": "pGebMA5XtswU",
        "outputId": "df28c99c-b3a0-4152-b5d0-836464e4907b"
      },
      "outputs": [
        {
          "output_type": "stream",
          "name": "stdout",
          "text": [
            "True\n",
            "True\n",
            "True\n",
            "False\n"
          ]
        },
        {
          "output_type": "stream",
          "name": "stderr",
          "text": [
            "/usr/local/lib/python3.7/dist-packages/ipykernel_launcher.py:12: DeprecationWarning: `np.bool` is a deprecated alias for the builtin `bool`. To silence this warning, use `bool` by itself. Doing this will not modify any behavior and is safe. If you specifically wanted the numpy scalar type, use `np.bool_` here.\n",
            "Deprecated in NumPy 1.20; for more details and guidance: https://numpy.org/devdocs/release/1.20.0-notes.html#deprecations\n",
            "  if sys.path[0] == '':\n",
            "/usr/local/lib/python3.7/dist-packages/ipykernel_launcher.py:14: DeprecationWarning: `np.unicode` is a deprecated alias for `np.compat.unicode`. To silence this warning, use `np.compat.unicode` by itself. In the likely event your code does not need to work on Python 2 you can use the builtin `str` for which `np.compat.unicode` is itself an alias. Doing this will not modify any behaviour and is safe. If you specifically wanted the numpy scalar type, use `np.str_` here.\n",
            "Deprecated in NumPy 1.20; for more details and guidance: https://numpy.org/devdocs/release/1.20.0-notes.html#deprecations\n",
            "  \n"
          ]
        }
      ],
      "source": [
        "import numpy as np\n",
        "import tensorflow as tf\n",
        "\n",
        "i = tf.constant(1) # tf.int32 类型常量\n",
        "l = tf.constant(1,dtype = tf.int64) # tf.int64 类型常量\n",
        "f = tf.constant(1.23) #tf.float32 类型常量\n",
        "d = tf.constant(3.14,dtype = tf.double) # tf.double 类型常量\n",
        "s = tf.constant(\"hello world\") # tf.string类型常量\n",
        "b = tf.constant(True) #tf.bool类型常量\n",
        "\n",
        "print(tf.int64 == np.int64)\n",
        "print(tf.bool == np.bool)\n",
        "print(tf.double == np.float64)\n",
        "print(tf.string == np.unicode) # tf.string 类型和 np.unicode 类型不等价"
      ]
    },
    {
      "cell_type": "code",
      "source": [
        "scalar = tf.constant(True) # 标量\n",
        "\n",
        "print(tf.rank(scalar))\n",
        "print(scalar.numpy().ndim) # tf.rank的作用和numpy的ndim方法相同"
      ],
      "metadata": {
        "colab": {
          "base_uri": "https://localhost:8080/"
        },
        "id": "yRxlTpjKuh4r",
        "outputId": "170619b0-af72-4f90-a8bc-1780fe1208fd"
      },
      "execution_count": 2,
      "outputs": [
        {
          "output_type": "stream",
          "name": "stdout",
          "text": [
            "tf.Tensor(0, shape=(), dtype=int32)\n",
            "0\n"
          ]
        }
      ]
    },
    {
      "cell_type": "code",
      "source": [
        "vector = tf.constant([1.0,2.0,3.0,4.0]) #向量，1维张量\n",
        "\n",
        "print(tf.rank(vector))\n",
        "print(np.ndim(vector.numpy()))"
      ],
      "metadata": {
        "colab": {
          "base_uri": "https://localhost:8080/"
        },
        "id": "0p9mpZdBvIJi",
        "outputId": "ca3ff6d5-97b6-42c7-8fd8-519bacb15f95"
      },
      "execution_count": 4,
      "outputs": [
        {
          "output_type": "stream",
          "name": "stdout",
          "text": [
            "tf.Tensor(1, shape=(), dtype=int32)\n",
            "1\n"
          ]
        }
      ]
    },
    {
      "cell_type": "code",
      "source": [
        "matrix = tf.constant([[1.0,2.0],[3.0,4.0]]) #矩阵, 2维张量\n",
        "\n",
        "print(tf.rank(matrix).numpy())\n",
        "print(np.ndim(matrix))"
      ],
      "metadata": {
        "colab": {
          "base_uri": "https://localhost:8080/"
        },
        "id": "R1arica6viOx",
        "outputId": "b354d86e-0d98-4406-b27c-c611bf2b6fa3"
      },
      "execution_count": 5,
      "outputs": [
        {
          "output_type": "stream",
          "name": "stdout",
          "text": [
            "2\n",
            "2\n"
          ]
        }
      ]
    },
    {
      "cell_type": "code",
      "source": [
        "tensor3 = tf.constant([[[1.0,2.0],[3.0,4.0]],[[5.0,6.0],[7.0,8.0]]])  # 3维张量\n",
        "print(tensor3)\n",
        "print(tf.rank(tensor3))"
      ],
      "metadata": {
        "colab": {
          "base_uri": "https://localhost:8080/"
        },
        "id": "rwveGr3Kvjmd",
        "outputId": "923d77f9-7302-4fa8-b949-eabc9c843951"
      },
      "execution_count": 6,
      "outputs": [
        {
          "output_type": "stream",
          "name": "stdout",
          "text": [
            "tf.Tensor(\n",
            "[[[1. 2.]\n",
            "  [3. 4.]]\n",
            "\n",
            " [[5. 6.]\n",
            "  [7. 8.]]], shape=(2, 2, 2), dtype=float32)\n",
            "tf.Tensor(3, shape=(), dtype=int32)\n"
          ]
        }
      ]
    },
    {
      "cell_type": "code",
      "source": [
        "tensor4 = tf.constant([[[[1.0,1.0],[2.0,2.0]],[[3.0,3.0],[4.0,4.0]]],\n",
        "                        [[[5.0,5.0],[6.0,6.0]],[[7.0,7.0],[8.0,8.0]]]])  # 4维张量\n",
        "print(tensor4)\n",
        "print(tf.rank(tensor4))"
      ],
      "metadata": {
        "colab": {
          "base_uri": "https://localhost:8080/"
        },
        "id": "z86JrG3LvlEW",
        "outputId": "aeea8ecd-270c-462d-f230-583d5eb3df6c"
      },
      "execution_count": 7,
      "outputs": [
        {
          "output_type": "stream",
          "name": "stdout",
          "text": [
            "tf.Tensor(\n",
            "[[[[1. 1.]\n",
            "   [2. 2.]]\n",
            "\n",
            "  [[3. 3.]\n",
            "   [4. 4.]]]\n",
            "\n",
            "\n",
            " [[[5. 5.]\n",
            "   [6. 6.]]\n",
            "\n",
            "  [[7. 7.]\n",
            "   [8. 8.]]]], shape=(2, 2, 2, 2), dtype=float32)\n",
            "tf.Tensor(4, shape=(), dtype=int32)\n"
          ]
        }
      ]
    },
    {
      "cell_type": "code",
      "source": [
        "h = tf.constant([123,456],dtype = tf.int32)\n",
        "f = tf.cast(h,tf.float32)\n",
        "print(h.dtype, f.dtype)"
      ],
      "metadata": {
        "colab": {
          "base_uri": "https://localhost:8080/"
        },
        "id": "W0FsETkgvmkf",
        "outputId": "6879a6a3-7ef1-402a-b444-4ab62d9e5960"
      },
      "execution_count": 8,
      "outputs": [
        {
          "output_type": "stream",
          "name": "stdout",
          "text": [
            "<dtype: 'int32'> <dtype: 'float32'>\n"
          ]
        }
      ]
    },
    {
      "cell_type": "code",
      "source": [
        "y = tf.constant([[1.0,2.0],[3.0,4.0]])\n",
        "print(y.numpy()) #转换成np.array\n",
        "print(y.shape)"
      ],
      "metadata": {
        "colab": {
          "base_uri": "https://localhost:8080/"
        },
        "id": "Q7EWaKxOvp5M",
        "outputId": "eb3b3102-5bf8-44cd-8d82-cddf8768cb18"
      },
      "execution_count": 9,
      "outputs": [
        {
          "output_type": "stream",
          "name": "stdout",
          "text": [
            "[[1. 2.]\n",
            " [3. 4.]]\n",
            "(2, 2)\n"
          ]
        }
      ]
    },
    {
      "cell_type": "code",
      "source": [
        "u = tf.constant(u\"你好 世界\")\n",
        "print(u.numpy())  \n",
        "print(u.numpy().decode(\"utf-8\"))"
      ],
      "metadata": {
        "colab": {
          "base_uri": "https://localhost:8080/"
        },
        "id": "7cbzYnF6vrjr",
        "outputId": "3842d096-defa-4a02-de41-6b22cee956ba"
      },
      "execution_count": 10,
      "outputs": [
        {
          "output_type": "stream",
          "name": "stdout",
          "text": [
            "b'\\xe4\\xbd\\xa0\\xe5\\xa5\\xbd \\xe4\\xb8\\x96\\xe7\\x95\\x8c'\n",
            "你好 世界\n"
          ]
        }
      ]
    },
    {
      "cell_type": "markdown",
      "source": [
        "**二、变量张量**"
      ],
      "metadata": {
        "id": "oMiqWOsMwBJk"
      }
    },
    {
      "cell_type": "code",
      "source": [
        "# 常量值不可以改变，常量的重新赋值相当于创造新的内存空间\n",
        "c = tf.constant([1.0,2.0])\n",
        "print(c)\n",
        "print(id(c))\n",
        "c = c + tf.constant([1.0,1.0])\n",
        "print(c)\n",
        "print(id(c))"
      ],
      "metadata": {
        "colab": {
          "base_uri": "https://localhost:8080/"
        },
        "id": "j1Id9_dfvtIb",
        "outputId": "7e412f5c-7498-4c2a-8f48-8f9191fd0126"
      },
      "execution_count": 12,
      "outputs": [
        {
          "output_type": "stream",
          "name": "stdout",
          "text": [
            "tf.Tensor([1. 2.], shape=(2,), dtype=float32)\n",
            "139913744964496\n",
            "tf.Tensor([2. 3.], shape=(2,), dtype=float32)\n",
            "139913744965264\n"
          ]
        }
      ]
    },
    {
      "cell_type": "code",
      "source": [
        "# 变量的值可以改变，可以通过assign, assign_add等方法给变量重新赋值\n",
        "v = tf.Variable([1.0,2.0])\n",
        "print(v)\n",
        "print(id(v))\n",
        "v.assign_add([1.0,1.0])\n",
        "print(v)\n",
        "print(id(v))"
      ],
      "metadata": {
        "colab": {
          "base_uri": "https://localhost:8080/"
        },
        "id": "KsKQsOS7wH7s",
        "outputId": "c1e65f5d-1543-4af7-b061-b69479391e3a"
      },
      "execution_count": 13,
      "outputs": [
        {
          "output_type": "stream",
          "name": "stdout",
          "text": [
            "<tf.Variable 'Variable:0' shape=(2,) dtype=float32, numpy=array([1., 2.], dtype=float32)>\n",
            "139913751578064\n",
            "<tf.Variable 'Variable:0' shape=(2,) dtype=float32, numpy=array([2., 3.], dtype=float32)>\n",
            "139913751578064\n"
          ]
        }
      ]
    },
    {
      "cell_type": "code",
      "source": [
        ""
      ],
      "metadata": {
        "id": "3j0NYmxYvb9R"
      },
      "execution_count": null,
      "outputs": []
    }
  ]
}