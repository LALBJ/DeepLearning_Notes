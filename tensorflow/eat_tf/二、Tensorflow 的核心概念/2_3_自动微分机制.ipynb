{
  "nbformat": 4,
  "nbformat_minor": 0,
  "metadata": {
    "colab": {
      "name": "2_3_自动微分机制.ipynb",
      "provenance": []
    },
    "kernelspec": {
      "name": "python3",
      "display_name": "Python 3"
    },
    "language_info": {
      "name": "python"
    }
  },
  "cells": [
    {
      "cell_type": "markdown",
      "source": [
        "**一、利用梯度磁带求导数**"
      ],
      "metadata": {
        "id": "--1DdG9za7VI"
      }
    },
    {
      "cell_type": "code",
      "execution_count": 1,
      "metadata": {
        "colab": {
          "base_uri": "https://localhost:8080/"
        },
        "id": "5Z68uPPIZ7Ni",
        "outputId": "b9815d48-4176-4762-8f0c-ac680e9800d7"
      },
      "outputs": [
        {
          "output_type": "stream",
          "name": "stdout",
          "text": [
            "tf.Tensor(-2.0, shape=(), dtype=float32)\n"
          ]
        }
      ],
      "source": [
        "import tensorflow as tf\n",
        "import numpy as np\n",
        "\n",
        "# f(x) = a*x**2 + b*x + c 的导数\n",
        "\n",
        "x = tf.Variable(0.0, name=\"x\", dtype=tf.float32)\n",
        "a = tf.constant(1.0)\n",
        "b = tf.constant(-2.0)\n",
        "c = tf.constant(1.0)\n",
        "\n",
        "with tf.GradientTape() as tape:\n",
        "    y = a*tf.pow(x, 2) + b*x + c\n",
        "\n",
        "dy_dx = tape.gradient(y, x)\n",
        "print(dy_dx)"
      ]
    },
    {
      "cell_type": "code",
      "source": [
        "# 对常量张量也可以求导，需要增加 watch\n",
        "with tf.GradientTape() as tape:\n",
        "    tape.watch([a,b,c])\n",
        "    y = a*tf.pow(x,2) + b*x + c\n",
        "    \n",
        "dy_dx,dy_da,dy_db,dy_dc = tape.gradient(y,[x,a,b,c])\n",
        "print(dy_da)\n",
        "print(dy_dc)"
      ],
      "metadata": {
        "colab": {
          "base_uri": "https://localhost:8080/"
        },
        "id": "vSyL72WwtcLf",
        "outputId": "2b1f7638-b0e3-4317-dc98-ce76c72b51b0"
      },
      "execution_count": 2,
      "outputs": [
        {
          "output_type": "stream",
          "name": "stdout",
          "text": [
            "tf.Tensor(0.0, shape=(), dtype=float32)\n",
            "tf.Tensor(1.0, shape=(), dtype=float32)\n"
          ]
        }
      ]
    },
    {
      "cell_type": "code",
      "source": [
        "# 可以求二阶导数\n",
        "with tf.GradientTape() as tape2:\n",
        "    with tf.GradientTape() as tape1:\n",
        "        y = a*tf.pow(x,2) + b*x + c\n",
        "    dy_dx = tape1.gradient(y,x)   \n",
        "dy2_dx2 = tape2.gradient(dy_dx,x)\n",
        "\n",
        "print(dy2_dx2)"
      ],
      "metadata": {
        "colab": {
          "base_uri": "https://localhost:8080/"
        },
        "id": "SV_dS5hMt3yL",
        "outputId": "8cfb2dbc-bf3f-4d43-c49a-1edd34ea5a6b"
      },
      "execution_count": 3,
      "outputs": [
        {
          "output_type": "stream",
          "name": "stdout",
          "text": [
            "tf.Tensor(2.0, shape=(), dtype=float32)\n"
          ]
        }
      ]
    },
    {
      "cell_type": "code",
      "source": [
        "# 可以在autograph中使用\n",
        "\n",
        "@tf.function\n",
        "def f(x):   \n",
        "    a = tf.constant(1.0)\n",
        "    b = tf.constant(-2.0)\n",
        "    c = tf.constant(1.0)\n",
        "    \n",
        "    # 自变量转换成tf.float32\n",
        "    x = tf.cast(x,tf.float32)\n",
        "    with tf.GradientTape() as tape:\n",
        "        tape.watch(x)\n",
        "        y = a*tf.pow(x,2)+b*x+c\n",
        "    dy_dx = tape.gradient(y,x) \n",
        "    \n",
        "    return((dy_dx,y))\n",
        "\n",
        "tf.print(f(tf.constant(0.0)))\n",
        "tf.print(f(tf.constant(1.0)))"
      ],
      "metadata": {
        "colab": {
          "base_uri": "https://localhost:8080/"
        },
        "id": "5U9zCoV0uMao",
        "outputId": "5907bb3d-c182-4e06-a289-ddbb8dd7351b"
      },
      "execution_count": 4,
      "outputs": [
        {
          "output_type": "stream",
          "name": "stdout",
          "text": [
            "(-2, 1)\n",
            "(0, 0)\n"
          ]
        }
      ]
    },
    {
      "cell_type": "markdown",
      "source": [
        "**二、利用梯度磁带和优化器求最小值**"
      ],
      "metadata": {
        "id": "QpA_g1jMuWOy"
      }
    },
    {
      "cell_type": "code",
      "source": [
        "# 求f(x) = a*x**2 + b*x + c的最小值\n",
        "# 使用optimizer.apply_gradients\n",
        "\n",
        "x = tf.Variable(0.0,name = \"x\",dtype = tf.float32)\n",
        "a = tf.constant(1.0)\n",
        "b = tf.constant(-2.0)\n",
        "c = tf.constant(1.0)\n",
        "\n",
        "optimizer = tf.keras.optimizers.SGD(learning_rate=0.01)\n",
        "for _ in range(1000):\n",
        "    with tf.GradientTape() as tape:\n",
        "        y = a*tf.pow(x,2) + b*x + c\n",
        "    dy_dx = tape.gradient(y,x)\n",
        "    optimizer.apply_gradients(grads_and_vars=[(dy_dx,x)])\n",
        "    \n",
        "tf.print(\"y =\",y,\"; x =\",x)"
      ],
      "metadata": {
        "colab": {
          "base_uri": "https://localhost:8080/"
        },
        "id": "rTe3F5zSuUBC",
        "outputId": "2a53f4a4-0f14-494d-dfcd-33017421b3b1"
      },
      "execution_count": 5,
      "outputs": [
        {
          "output_type": "stream",
          "name": "stdout",
          "text": [
            "y = 0 ; x = 0.99999851\n"
          ]
        }
      ]
    },
    {
      "cell_type": "code",
      "source": [
        "# 求f(x) = a*x**2 + b*x + c的最小值\n",
        "# 使用optimizer.minimize\n",
        "# optimizer.minimize相当于先用tape求gradient,再apply_gradient\n",
        "\n",
        "x = tf.Variable(0.0,name = \"x\",dtype = tf.float32)\n",
        "\n",
        "#注意f()无参数\n",
        "def f():   \n",
        "    a = tf.constant(1.0)\n",
        "    b = tf.constant(-2.0)\n",
        "    c = tf.constant(1.0)\n",
        "    y = a*tf.pow(x,2)+b*x+c\n",
        "    return(y)\n",
        "\n",
        "optimizer = tf.keras.optimizers.SGD(learning_rate=0.01)   \n",
        "for _ in range(1000):\n",
        "    optimizer.minimize(f,[x])   \n",
        "    \n",
        "tf.print(\"y =\",f(),\"; x =\",x)"
      ],
      "metadata": {
        "colab": {
          "base_uri": "https://localhost:8080/"
        },
        "id": "boV3bXAYu0fw",
        "outputId": "cdace449-45d3-44c0-9fec-b88a2e35e468"
      },
      "execution_count": 6,
      "outputs": [
        {
          "output_type": "stream",
          "name": "stdout",
          "text": [
            "y = 0 ; x = 0.99999851\n"
          ]
        }
      ]
    },
    {
      "cell_type": "code",
      "source": [
        "# 在autograph中完成最小值求解\n",
        "# 使用optimizer.apply_gradients\n",
        "\n",
        "x = tf.Variable(0.0,name = \"x\",dtype = tf.float32)\n",
        "optimizer = tf.keras.optimizers.SGD(learning_rate=0.01)\n",
        "\n",
        "@tf.function\n",
        "def minimizef():\n",
        "    a = tf.constant(1.0)\n",
        "    b = tf.constant(-2.0)\n",
        "    c = tf.constant(1.0)\n",
        "    \n",
        "    for _ in tf.range(1000): #注意autograph时使用tf.range(1000)而不是range(1000)\n",
        "        with tf.GradientTape() as tape:\n",
        "            y = a*tf.pow(x,2) + b*x + c\n",
        "        dy_dx = tape.gradient(y,x)\n",
        "        optimizer.apply_gradients(grads_and_vars=[(dy_dx,x)])\n",
        "        \n",
        "    y = a*tf.pow(x,2) + b*x + c\n",
        "    return y\n",
        "\n",
        "tf.print(minimizef())\n",
        "tf.print(x)"
      ],
      "metadata": {
        "colab": {
          "base_uri": "https://localhost:8080/"
        },
        "id": "j4eyB2M9u9cy",
        "outputId": "40dd38e2-8d92-45d1-e629-31b4b254a7b1"
      },
      "execution_count": 7,
      "outputs": [
        {
          "output_type": "stream",
          "name": "stdout",
          "text": [
            "0\n",
            "0.99999851\n"
          ]
        }
      ]
    },
    {
      "cell_type": "code",
      "source": [
        "x = tf.Variable(0.0, name=\"x\", dtype = tf.float32)\n",
        "optimizer = tf.keras.optimizers.SGD(learning_rate=0.01)\n",
        "\n",
        "@tf.function\n",
        "def f():\n",
        "    a = tf.constant(1.0)\n",
        "    b = tf.constant(-2.0)\n",
        "    c = tf.constant(1.0)\n",
        "    y = a*tf.pow(x,2)+b*x+c\n",
        "    return y\n",
        "\n",
        "def train(epochs):\n",
        "    for _ in range(epochs):\n",
        "        optimizer.minimize(f, [x])\n",
        "    return f()\n",
        "\n",
        "tf.print(train(1000))\n",
        "tf.print(x)"
      ],
      "metadata": {
        "colab": {
          "base_uri": "https://localhost:8080/"
        },
        "id": "Z9de7zMtvGZA",
        "outputId": "c21e1e69-cc2c-4fbc-ecb7-123056d0dfe3"
      },
      "execution_count": 8,
      "outputs": [
        {
          "output_type": "stream",
          "name": "stdout",
          "text": [
            "0\n",
            "0.99999851\n"
          ]
        }
      ]
    },
    {
      "cell_type": "code",
      "source": [
        ""
      ],
      "metadata": {
        "id": "EWIwsgEHv2S2"
      },
      "execution_count": null,
      "outputs": []
    }
  ]
}