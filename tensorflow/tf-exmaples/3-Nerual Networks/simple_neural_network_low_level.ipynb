{
  "nbformat": 4,
  "nbformat_minor": 0,
  "metadata": {
    "colab": {
      "name": "simple_neural_network_low_level.ipynb",
      "provenance": []
    },
    "kernelspec": {
      "name": "python3",
      "display_name": "Python 3"
    },
    "language_info": {
      "name": "python"
    }
  },
  "cells": [
    {
      "cell_type": "code",
      "execution_count": 1,
      "metadata": {
        "id": "4_wF7GVdYtLG"
      },
      "outputs": [],
      "source": [
        "import tensorflow as tf\n",
        "import numpy as np"
      ]
    },
    {
      "cell_type": "code",
      "source": [
        "# MNIST dataset parameters.\n",
        "num_classes = 10 # total classes (0-9 digits).\n",
        "num_features = 784 # data features (img shape: 28*28).\n",
        "\n",
        "# Training parameters.\n",
        "learning_rate = 0.001\n",
        "training_steps = 3000\n",
        "batch_size = 256\n",
        "display_step = 100\n",
        "\n",
        "# Network parameters.\n",
        "n_hidden_1 = 128 # 1st layer number of neurons.\n",
        "n_hidden_2 = 256 # 2nd layer number of neurons."
      ],
      "metadata": {
        "id": "Eaoh2aJeY_fV"
      },
      "execution_count": 2,
      "outputs": []
    },
    {
      "cell_type": "code",
      "source": [
        "# Prepare MNIST data.\n",
        "from tensorflow.keras.datasets import mnist\n",
        "(x_train, y_train), (x_test, y_test) = mnist.load_data()\n",
        "# Convert to float32.\n",
        "x_train, x_test = np.array(x_train, np.float32), np.array(x_test, np.float32)\n",
        "# Flatten images to 1-D vector of 784 features (28*28).\n",
        "x_train, x_test = x_train.reshape([-1, num_features]), x_test.reshape([-1, num_features])\n",
        "# Normalize images value from [0, 255] to [0, 1].\n",
        "x_train, x_test = x_train / 255., x_test / 255."
      ],
      "metadata": {
        "id": "95jfdtd-ZAxI"
      },
      "execution_count": 3,
      "outputs": []
    },
    {
      "cell_type": "code",
      "source": [
        "# Use tf.data API to shuffle and batch data.\n",
        "train_data = tf.data.Dataset.from_tensor_slices((x_train, y_train))\n",
        "train_data = train_data.repeat().shuffle(5000).batch(batch_size).prefetch(1)"
      ],
      "metadata": {
        "id": "UC4KzGLLZs90"
      },
      "execution_count": 4,
      "outputs": []
    },
    {
      "cell_type": "code",
      "source": [
        "# Store layers weight & bias\n",
        "\n",
        "# A random value generator to initialize weights.\n",
        "random_normal = tf.initializers.RandomNormal()\n",
        "\n",
        "weights = {\n",
        "    'h1': tf.Variable(random_normal([num_features, n_hidden_1])),\n",
        "    'h2': tf.Variable(random_normal([n_hidden_1, n_hidden_2])),\n",
        "    'out': tf.Variable(random_normal([n_hidden_2, num_classes]))\n",
        "}\n",
        "\n",
        "biases = {\n",
        "    'b1': tf.Variable(tf.zeros([n_hidden_1])),\n",
        "    'b2': tf.Variable(tf.zeros([n_hidden_2])),\n",
        "    'out': tf.Variable(tf.zeros([num_classes]))\n",
        "}"
      ],
      "metadata": {
        "id": "iM8qluxha-9w"
      },
      "execution_count": 5,
      "outputs": []
    },
    {
      "cell_type": "code",
      "source": [
        "# Create model.\n",
        "def neural_net(x):\n",
        "  # Hidden fully connected layer with 128 neurons.\n",
        "  layer_1 = tf.add(tf.matmul(x, weights['h1']), biases['b1'])\n",
        "  # Apply sigmoid to layer_1 output for non-linearity.\n",
        "  layer_1 = tf.nn.sigmoid(layer_1)\n",
        "\n",
        "  # Hidden fully connected layer with 256 neurons.\n",
        "  layer_2 = tf.add(tf.matmul(layer_1, weights['h2']), biases['b2'])\n",
        "  # Apply sigmoid to layer_2 output for non-linearity.\n",
        "  layer_2 = tf.nn.sigmoid(layer_2)\n",
        "\n",
        "  # Output fully connected layer with a neuron for each class.\n",
        "  out_layer = tf.matmul(layer_2, weights['out']) + biases['out']\n",
        "  # Apply softmax to normalize the logits to a proability distribution.\n",
        "  return tf.nn.softmax(out_layer)"
      ],
      "metadata": {
        "id": "PnyeCu90F0zI"
      },
      "execution_count": 10,
      "outputs": []
    },
    {
      "cell_type": "code",
      "source": [
        "# Cross-Entropy loss function.\n",
        "def cross_entropy(y_pred, y_true):\n",
        "  # Encode label to a one hot vector.\n",
        "  y_true = tf.one_hot(y_true, depth=num_classes)\n",
        "  # Clip prediction values to avoid log(0) error.\n",
        "  y_pred = tf.clip_by_value(y_pred, 1e-9, 1.)\n",
        "  # Compute cross-entropy.\n",
        "  return tf.reduce_mean(-tf.reduce_sum(y_true * tf.math.log(y_pred)))\n",
        "\n",
        "# Accuracy metric.\n",
        "def accuracy(y_pred, y_true):\n",
        "  # Predicted class is the index of highest score in prediction vector (i.e. argmax).\n",
        "  correct_prediction = tf.equal(tf.argmax(y_pred, 1), tf.cast(y_true, tf.int64))\n",
        "  return tf.reduce_mean(tf.cast(correct_prediction, tf.float32), axis=-1)\n",
        "\n",
        "# Stochastic gradient descent optimizer.\n",
        "optimizer = tf.optimizers.SGD(learning_rate)"
      ],
      "metadata": {
        "id": "7wnCDasiMB-o"
      },
      "execution_count": 7,
      "outputs": []
    },
    {
      "cell_type": "code",
      "source": [
        "# Optimization process.\n",
        "def run_optimization(x, y):\n",
        "  # Wrap computation inside a GradientTape for automatic differentiation.\n",
        "  with tf.GradientTape() as g:\n",
        "    pred = neural_net(x)\n",
        "    loss = cross_entropy(pred, y)\n",
        "  \n",
        "  # Variables to update, i.e. trainable variables.\n",
        "  trainable_variables = list(weights.values()) + list(biases.values())\n",
        "\n",
        "  # Compute gradients.\n",
        "  gradients = g.gradient(loss, trainable_variables)\n",
        "\n",
        "  # Update W and b following gradients.\n",
        "  optimizer.apply_gradients(zip(gradients, trainable_variables))"
      ],
      "metadata": {
        "id": "YOwvnTS2IkL7"
      },
      "execution_count": 12,
      "outputs": []
    },
    {
      "cell_type": "code",
      "source": [
        "# Run training for the given number of steps.\n",
        "for step, (batch_x, batch_y) in enumerate(train_data.take(training_steps), 1):\n",
        "  # Run the optimization to update W and b values.\n",
        "  run_optimization(batch_x, batch_y)\n",
        "  \n",
        "  if step % display_step == 0:\n",
        "    pred = neural_net(batch_x)\n",
        "    loss = cross_entropy(pred, batch_y)\n",
        "    acc = accuracy(pred, batch_y)\n",
        "    print(\"step: %i, loss: %f, accuracy: %f\" % (step, loss, acc))"
      ],
      "metadata": {
        "colab": {
          "base_uri": "https://localhost:8080/"
        },
        "id": "Vm1q5b6CPRcg",
        "outputId": "50edf3e0-23dc-489f-97cb-2bd23ecd7367"
      },
      "execution_count": 14,
      "outputs": [
        {
          "output_type": "stream",
          "name": "stdout",
          "text": [
            "step: 100, loss: 53.490246, accuracy: 0.953125\n",
            "step: 200, loss: 48.604042, accuracy: 0.945312\n",
            "step: 300, loss: 28.754854, accuracy: 0.976562\n",
            "step: 400, loss: 44.417061, accuracy: 0.964844\n",
            "step: 500, loss: 53.188457, accuracy: 0.953125\n",
            "step: 600, loss: 54.863403, accuracy: 0.941406\n",
            "step: 700, loss: 35.902515, accuracy: 0.953125\n",
            "step: 800, loss: 39.689758, accuracy: 0.957031\n",
            "step: 900, loss: 39.051590, accuracy: 0.949219\n",
            "step: 1000, loss: 43.869492, accuracy: 0.957031\n",
            "step: 1100, loss: 50.766663, accuracy: 0.953125\n",
            "step: 1200, loss: 34.519615, accuracy: 0.968750\n",
            "step: 1300, loss: 68.325279, accuracy: 0.949219\n",
            "step: 1400, loss: 31.539482, accuracy: 0.964844\n",
            "step: 1500, loss: 64.829033, accuracy: 0.925781\n",
            "step: 1600, loss: 42.165142, accuracy: 0.949219\n",
            "step: 1700, loss: 27.613605, accuracy: 0.968750\n",
            "step: 1800, loss: 49.932446, accuracy: 0.945312\n",
            "step: 1900, loss: 43.477921, accuracy: 0.937500\n",
            "step: 2000, loss: 42.169315, accuracy: 0.945312\n",
            "step: 2100, loss: 27.601894, accuracy: 0.968750\n",
            "step: 2200, loss: 34.442341, accuracy: 0.968750\n",
            "step: 2300, loss: 27.149874, accuracy: 0.968750\n",
            "step: 2400, loss: 39.240112, accuracy: 0.964844\n",
            "step: 2500, loss: 30.290915, accuracy: 0.972656\n",
            "step: 2600, loss: 31.804092, accuracy: 0.964844\n",
            "step: 2700, loss: 30.955990, accuracy: 0.960938\n",
            "step: 2800, loss: 26.969713, accuracy: 0.968750\n",
            "step: 2900, loss: 42.055733, accuracy: 0.957031\n",
            "step: 3000, loss: 31.507198, accuracy: 0.984375\n"
          ]
        }
      ]
    },
    {
      "cell_type": "code",
      "source": [
        ""
      ],
      "metadata": {
        "id": "UJ3sVsA3HXA8"
      },
      "execution_count": null,
      "outputs": []
    }
  ]
}