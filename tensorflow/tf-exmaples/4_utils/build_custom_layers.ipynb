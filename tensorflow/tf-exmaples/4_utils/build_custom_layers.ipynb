{
  "nbformat": 4,
  "nbformat_minor": 0,
  "metadata": {
    "colab": {
      "name": "build_custom_layers.ipynb",
      "provenance": []
    },
    "kernelspec": {
      "name": "python3",
      "display_name": "Python 3"
    },
    "language_info": {
      "name": "python"
    }
  },
  "cells": [
    {
      "cell_type": "code",
      "execution_count": 1,
      "metadata": {
        "id": "Zu5f2I652Jc5"
      },
      "outputs": [],
      "source": [
        "import tensorflow as tf\n",
        "from tensorflow.keras import Model, layers\n",
        "import numpy as np"
      ]
    },
    {
      "cell_type": "code",
      "source": [
        "# MNIST dataset parameters.\n",
        "num_classes = 10 # 0 to 9 digits\n",
        "num_features = 784 # 28*28\n",
        "\n",
        "# Training parameters.\n",
        "learning_rate = 0.01\n",
        "training_steps = 500\n",
        "batch_size = 256\n",
        "display_step = 50"
      ],
      "metadata": {
        "id": "mLGSaR6S2S4M"
      },
      "execution_count": 2,
      "outputs": []
    },
    {
      "cell_type": "code",
      "source": [
        "# Prepare MNIST data.\n",
        "from tensorflow.keras.datasets import mnist\n",
        "(x_train, y_train), (x_test, y_test) = mnist.load_data()\n",
        "# Convert to float32.\n",
        "x_train, x_test = np.array(x_train, np.float32), np.array(x_test, np.float32)\n",
        "# Flatten images to 1-D vector of 784 features (28*28).\n",
        "x_train, x_test = x_train.reshape([-1, num_features]), x_test.reshape([-1, num_features])\n",
        "# Normalize images value from [0, 255] to [0, 1].\n",
        "x_train, x_test = x_train / 255., x_test / 255."
      ],
      "metadata": {
        "id": "L_hW13s62YWl"
      },
      "execution_count": 3,
      "outputs": []
    },
    {
      "cell_type": "code",
      "source": [
        "# Use tf.data API to shuffle and batch data.\n",
        "train_data = tf.data.Dataset.from_tensor_slices((x_train, y_train))\n",
        "train_data = train_data.repeat().shuffle(5000).batch(batch_size).prefetch(1)"
      ],
      "metadata": {
        "id": "aHCKOPUX2Zro"
      },
      "execution_count": 4,
      "outputs": []
    },
    {
      "cell_type": "markdown",
      "source": [
        "**Create a custom layer**"
      ],
      "metadata": {
        "id": "s2SLpB3k2bXe"
      }
    },
    {
      "cell_type": "code",
      "source": [
        "class CustomLayer1(layers.Layer):\n",
        "    def __init__(self, num_units, **kwargs):\n",
        "        self.num_units = num_units\n",
        "        super(CustomLayer1, self).__init__(**kwargs)\n",
        "    \n",
        "    def build(self, input_shape):\n",
        "        shape = tf.TensorShape((input_shape[1], self.num_units))\n",
        "        # Create weight and variables for this layer.\n",
        "        self.weight = self.add_weight(name='W',\n",
        "                                      shape=shape,\n",
        "                                      initializer=tf.initializers.RandomNormal,\n",
        "                                      trainable=True)\n",
        "        self.bias = self.add_weight(name='b',\n",
        "                                    shape=[self.num_units])\n",
        "        # Make sure to call the `build` method at the end\n",
        "        super(CustomLayer1, self).build(input_shape)\n",
        "\n",
        "    def call(self, inputs):\n",
        "        x = tf.matmul(inputs, self.weight)\n",
        "        x = x + self.bias\n",
        "        return tf.nn.relu(x)\n",
        "    \n",
        "    def get_config(self):\n",
        "        base_config = super(CustomLayer1, self).get_config()\n",
        "        base_config['num_units'] = self.num_units\n",
        "        return base_config"
      ],
      "metadata": {
        "id": "_RJzHqfi2a5m"
      },
      "execution_count": 5,
      "outputs": []
    },
    {
      "cell_type": "markdown",
      "source": [
        "**Create another custom layer**"
      ],
      "metadata": {
        "id": "agk2Xk6E4iKL"
      }
    },
    {
      "cell_type": "code",
      "source": [
        "class CustomLayer2(layers.Layer):\n",
        "    def __init__(self, num_units, **kwargs):\n",
        "        self.num_units = num_units\n",
        "        super(CustomLayer2, self).__init__(**kwargs)\n",
        "    \n",
        "    def build(self, input_shape):\n",
        "        shape = tf.TensorShape((input_shape[1], self.num_units))\n",
        "\n",
        "        self.inner_layer1 = layers.Dense(1)\n",
        "        self.inner_layer2 = layers.Dense(self.num_units)\n",
        "        # Make sure to call the `build` method at the end\n",
        "        super(CustomLayer2, self).build(input_shape)\n",
        "\n",
        "    def call(self, inputs):\n",
        "        x = self.inner_layer1(inputs)\n",
        "        x = tf.nn.relu(x)\n",
        "        x = self.inner_layer2(x)\n",
        "        return x + inputs\n",
        "\n",
        "    def get_config(self):\n",
        "        base_config = super(CustomLayer2, self).get_config()\n",
        "        base_config['num_units'] = self.num_units\n",
        "        return base_config"
      ],
      "metadata": {
        "id": "4kS4ok_P4elK"
      },
      "execution_count": 6,
      "outputs": []
    },
    {
      "cell_type": "markdown",
      "source": [
        "**Build Model**"
      ],
      "metadata": {
        "id": "AOW7F-N_5ztl"
      }
    },
    {
      "cell_type": "code",
      "source": [
        "class CustomNet(Model):\n",
        "    def __init__(self):\n",
        "        super(CustomNet, self).__init__()\n",
        "        # Use custom layers created above.\n",
        "        self.layer1 = CustomLayer1(64)\n",
        "        self.layer2 = CustomLayer2(64)\n",
        "        self.out = layers.Dense(num_classes, activation=tf.nn.softmax)\n",
        "\n",
        "    def __call__(self, x, is_training=False):\n",
        "        x = self.layer1(x)\n",
        "        x = tf.nn.relu(x)\n",
        "        x = self.layer2(x)\n",
        "        if not is_training:\n",
        "            x = tf.nn.softmax(x)\n",
        "        return x\n",
        "\n",
        "# Build neural network model.\n",
        "custom_net = CustomNet()"
      ],
      "metadata": {
        "id": "2gYyeQKt5xwr"
      },
      "execution_count": 7,
      "outputs": []
    },
    {
      "cell_type": "code",
      "source": [
        "# Cross-Entropy loss function.\n",
        "def cross_entropy(y_pred, y_true):\n",
        "    y_true = tf.cast(y_true, tf.int64)\n",
        "    crossentropy = tf.nn.sparse_softmax_cross_entropy_with_logits(labels=y_true, logits=y_pred)\n",
        "    return tf.reduce_mean(crossentropy)\n",
        "\n",
        "# Accuracy metric.\n",
        "def accuracy(y_pred, y_true):\n",
        "    # Predicted class is the index of highest score in prediction vector (i.e. argmax).\n",
        "    correct_prediction = tf.equal(tf.argmax(y_pred, 1), tf.cast(y_true, tf.int64))\n",
        "    return tf.reduce_mean(tf.cast(correct_prediction, tf.float32))\n",
        "\n",
        "# Adam optimizer.\n",
        "optimizer = tf.optimizers.Adam(learning_rate)"
      ],
      "metadata": {
        "id": "M8y-ar8L6ZJO"
      },
      "execution_count": 8,
      "outputs": []
    },
    {
      "cell_type": "code",
      "source": [
        "# Optimization process. \n",
        "def run_optimization(x, y):\n",
        "    # Wrap computation inside a GradientTape for automatic differentiation.\n",
        "    with tf.GradientTape() as g:\n",
        "        pred = custom_net(x, is_training=True)\n",
        "        loss = cross_entropy(pred, y)\n",
        "\n",
        "        # Compute gradients.\n",
        "        gradients = g.gradient(loss, custom_net.trainable_variables)\n",
        "\n",
        "        # Update W and b following gradients.\n",
        "        optimizer.apply_gradients(zip(gradients, custom_net.trainable_variables))"
      ],
      "metadata": {
        "id": "WAAE7jfn6dqL"
      },
      "execution_count": 9,
      "outputs": []
    },
    {
      "cell_type": "code",
      "source": [
        "# Run training for the given number of steps.\n",
        "for step, (batch_x, batch_y) in enumerate(train_data.take(training_steps), 1):\n",
        "    # Run the optimization to update W and b values.\n",
        "    run_optimization(batch_x, batch_y)\n",
        "    \n",
        "    if step % display_step == 0:\n",
        "        pred = custom_net(batch_x, is_training=False)\n",
        "        loss = cross_entropy(pred, batch_y)\n",
        "        acc = accuracy(pred, batch_y)\n",
        "        print(\"step: %i, loss: %f, accuracy: %f\" % (step, loss, acc))"
      ],
      "metadata": {
        "colab": {
          "base_uri": "https://localhost:8080/"
        },
        "id": "gpE4kpP96fbM",
        "outputId": "901b192d-0aed-4d79-f82a-0526709b2180"
      },
      "execution_count": 10,
      "outputs": [
        {
          "output_type": "stream",
          "name": "stdout",
          "text": [
            "step: 50, loss: 3.474307, accuracy: 0.796875\n",
            "step: 100, loss: 3.337889, accuracy: 0.906250\n",
            "step: 150, loss: 3.309410, accuracy: 0.933594\n",
            "step: 200, loss: 3.346299, accuracy: 0.894531\n",
            "step: 250, loss: 3.322538, accuracy: 0.925781\n",
            "step: 300, loss: 3.305770, accuracy: 0.925781\n",
            "step: 350, loss: 3.308198, accuracy: 0.921875\n",
            "step: 400, loss: 3.301715, accuracy: 0.949219\n",
            "step: 450, loss: 3.296405, accuracy: 0.957031\n",
            "step: 500, loss: 3.304890, accuracy: 0.929688\n"
          ]
        }
      ]
    },
    {
      "cell_type": "code",
      "source": [
        ""
      ],
      "metadata": {
        "colab": {
          "base_uri": "https://localhost:8080/",
          "height": 35
        },
        "id": "FxMVfJVZ4s-N",
        "outputId": "3a2ca453-ad42-486e-b2b8-623f86a9b424"
      },
      "execution_count": 11,
      "outputs": [
        {
          "output_type": "execute_result",
          "data": {
            "text/plain": [
              "''"
            ],
            "application/vnd.google.colaboratory.intrinsic+json": {
              "type": "string"
            }
          },
          "metadata": {},
          "execution_count": 11
        }
      ]
    }
  ]
}