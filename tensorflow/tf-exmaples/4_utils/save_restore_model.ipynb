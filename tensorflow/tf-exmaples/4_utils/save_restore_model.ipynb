{
  "nbformat": 4,
  "nbformat_minor": 0,
  "metadata": {
    "colab": {
      "name": "save_restore_model.ipynb",
      "provenance": [],
      "collapsed_sections": []
    },
    "kernelspec": {
      "name": "python3",
      "display_name": "Python 3"
    },
    "language_info": {
      "name": "python"
    }
  },
  "cells": [
    {
      "cell_type": "code",
      "execution_count": 1,
      "metadata": {
        "id": "V9GRnWTDtwSR"
      },
      "outputs": [],
      "source": [
        "import tensorflow as tf\n",
        "import numpy as np"
      ]
    },
    {
      "cell_type": "code",
      "source": [
        "# MNIST dataset parameters.\n",
        "num_classes = 10 # 0 to 9 digits\n",
        "num_features = 784 # 28*28\n",
        "\n",
        "# Training parameters.\n",
        "learning_rate = 0.01\n",
        "training_steps = 1000\n",
        "batch_size = 256\n",
        "display_step = 50"
      ],
      "metadata": {
        "id": "7opJrIqUt6_v"
      },
      "execution_count": 6,
      "outputs": []
    },
    {
      "cell_type": "code",
      "source": [
        "# Prepare MNIST data.\n",
        "from tensorflow.keras.datasets import mnist\n",
        "(x_train, y_train), (x_test, y_test) = mnist.load_data()\n",
        "# Convert to float32.\n",
        "x_train, x_test = np.array(x_train, np.float32), np.array(x_test, np.float32)\n",
        "# Flatten images to 1-D vector of 784 features (28*28).\n",
        "x_train, x_test = x_train.reshape([-1, num_features]), x_test.reshape([-1, num_features])\n",
        "# Normalize images value from [0, 255] to [0, 1].\n",
        "x_train, x_test = x_train / 255., x_test / 255."
      ],
      "metadata": {
        "colab": {
          "base_uri": "https://localhost:8080/"
        },
        "id": "teb1KoqRuK8m",
        "outputId": "67584d7d-89ed-47dc-c8c8-f1f16f324261"
      },
      "execution_count": 3,
      "outputs": [
        {
          "output_type": "stream",
          "name": "stdout",
          "text": [
            "Downloading data from https://storage.googleapis.com/tensorflow/tf-keras-datasets/mnist.npz\n",
            "11493376/11490434 [==============================] - 0s 0us/step\n",
            "11501568/11490434 [==============================] - 0s 0us/step\n"
          ]
        }
      ]
    },
    {
      "cell_type": "code",
      "source": [
        "# Use tf.data API to shuffle and batch data.\n",
        "train_data = tf.data.Dataset.from_tensor_slices((x_train, y_train))\n",
        "train_data = train_data.repeat().shuffle(5000).batch(batch_size).prefetch(1)"
      ],
      "metadata": {
        "id": "vmEQZHH2uN_O"
      },
      "execution_count": 4,
      "outputs": []
    },
    {
      "cell_type": "markdown",
      "source": [
        "**1) TF Checkpoint**"
      ],
      "metadata": {
        "id": "QyoC-JCOuP1O"
      }
    },
    {
      "cell_type": "markdown",
      "source": [
        "Basic logistic regression"
      ],
      "metadata": {
        "id": "vu9J_rtWuZNO"
      }
    },
    {
      "cell_type": "code",
      "source": [
        "W = tf.Variable(tf.random.normal([num_features, num_classes]), name=\"weight\")\n",
        "b = tf.Variable(tf.zeros([num_classes]), name=\"bias\")\n",
        "\n",
        "def logistic_regression(x):\n",
        "    return tf.nn.softmax(tf.matmul(x, W) + b)\n",
        "\n",
        "# Cross-Entropy loss function.\n",
        "def cross_entropy(y_pred, y_true):\n",
        "    # Encode label to a one hot vector.\n",
        "    y_true = tf.one_hot(y_true, depth=num_classes)\n",
        "    # Clip prediction values to avoid log(0) error.\n",
        "    y_pred = tf.clip_by_value(y_pred, 1e-9, 1.)\n",
        "    # Compute cross-entropy.\n",
        "    return tf.reduce_mean(-tf.reduce_sum(y_true * tf.math.log(y_pred)))\n",
        "\n",
        "# Accuracy metric.\n",
        "def accuracy(y_pred, y_true):\n",
        "    # Predicted class is the index of highest score in prediction vector (i.e. argmax).\n",
        "    correct_prediction = tf.equal(tf.argmax(y_pred, 1), tf.cast(y_true, tf.int64))\n",
        "    return tf.reduce_mean(tf.cast(correct_prediction, tf.float32))\n",
        "\n",
        "# Adam optimizer.\n",
        "optimizer = tf.optimizers.Adam(learning_rate)"
      ],
      "metadata": {
        "id": "ObFkQtduuPRd"
      },
      "execution_count": 7,
      "outputs": []
    },
    {
      "cell_type": "code",
      "source": [
        "def run_optimization(x, y):\n",
        "    with tf.GradientTape() as g:\n",
        "        pred = logistic_regression(x)\n",
        "        loss = cross_entropy(pred, y)\n",
        "\n",
        "        gradients = g.gradient(loss, [W, b])\n",
        "\n",
        "        optimizer.apply_gradients(zip(gradients, [W, b]))"
      ],
      "metadata": {
        "id": "o8Rm_0U6vVJD"
      },
      "execution_count": 10,
      "outputs": []
    },
    {
      "cell_type": "code",
      "source": [
        "for step, (batch_x, batch_y) in enumerate(train_data.take(training_steps), 1):\n",
        "    run_optimization(batch_x, batch_y)\n",
        "\n",
        "    if step % display_step == 0:\n",
        "        pred = logistic_regression(batch_x)\n",
        "        loss = cross_entropy(pred, batch_y)\n",
        "        acc = accuracy(pred, batch_y)\n",
        "        print(\"step: %i, loss: %f, accuracy: %f\" % (step, loss, acc))"
      ],
      "metadata": {
        "colab": {
          "base_uri": "https://localhost:8080/"
        },
        "id": "YuJBH8-8vtOH",
        "outputId": "5f6ed2d8-b259-473f-ceae-7b4f3928107f"
      },
      "execution_count": 11,
      "outputs": [
        {
          "output_type": "stream",
          "name": "stdout",
          "text": [
            "step: 50, loss: 497.326050, accuracy: 0.628906\n",
            "step: 100, loss: 334.016785, accuracy: 0.785156\n",
            "step: 150, loss: 241.835175, accuracy: 0.832031\n",
            "step: 200, loss: 157.957886, accuracy: 0.882812\n",
            "step: 250, loss: 191.231064, accuracy: 0.878906\n",
            "step: 300, loss: 208.493668, accuracy: 0.847656\n",
            "step: 350, loss: 184.009323, accuracy: 0.875000\n",
            "step: 400, loss: 220.533569, accuracy: 0.847656\n",
            "step: 450, loss: 169.468353, accuracy: 0.878906\n",
            "step: 500, loss: 117.588249, accuracy: 0.882812\n",
            "step: 550, loss: 118.535202, accuracy: 0.886719\n",
            "step: 600, loss: 171.519989, accuracy: 0.851562\n",
            "step: 650, loss: 141.058090, accuracy: 0.878906\n",
            "step: 700, loss: 87.067368, accuracy: 0.898438\n",
            "step: 750, loss: 177.132095, accuracy: 0.855469\n",
            "step: 800, loss: 52.242306, accuracy: 0.929688\n",
            "step: 850, loss: 106.422684, accuracy: 0.886719\n",
            "step: 900, loss: 176.263107, accuracy: 0.863281\n",
            "step: 950, loss: 69.676392, accuracy: 0.921875\n",
            "step: 1000, loss: 99.548164, accuracy: 0.910156\n"
          ]
        }
      ]
    },
    {
      "cell_type": "markdown",
      "source": [
        "Save and Load with TF Checkpoint"
      ],
      "metadata": {
        "id": "nOELPsHOwNcc"
      }
    },
    {
      "cell_type": "code",
      "source": [
        "vars_to_save = {\"W\": W, \"b\": b, \"optimizer\": optimizer}\n",
        "checkpoint = tf.train.Checkpoint(**vars_to_save)\n",
        "saver = tf.train.CheckpointManager(\n",
        "    checkpoint, directory=\"./tf-example\", max_to_keep=5\n",
        ")"
      ],
      "metadata": {
        "id": "Gu7d7nvZwGj_"
      },
      "execution_count": 17,
      "outputs": []
    },
    {
      "cell_type": "code",
      "source": [
        "saver.save()"
      ],
      "metadata": {
        "colab": {
          "base_uri": "https://localhost:8080/",
          "height": 35
        },
        "id": "rC5fSdR_xpZ3",
        "outputId": "86d61719-9035-4dff-94ce-7bb03256caa2"
      },
      "execution_count": 18,
      "outputs": [
        {
          "output_type": "execute_result",
          "data": {
            "text/plain": [
              "'./tf-example/ckpt-1'"
            ],
            "application/vnd.google.colaboratory.intrinsic+json": {
              "type": "string"
            }
          },
          "metadata": {},
          "execution_count": 18
        }
      ]
    },
    {
      "cell_type": "code",
      "source": [
        "np.mean(W.numpy())"
      ],
      "metadata": {
        "colab": {
          "base_uri": "https://localhost:8080/"
        },
        "id": "dmVzh_8rxZTx",
        "outputId": "02063ab3-c217-4873-9f3a-b1158125d724"
      },
      "execution_count": 19,
      "outputs": [
        {
          "output_type": "execute_result",
          "data": {
            "text/plain": [
              "-0.09217432"
            ]
          },
          "metadata": {},
          "execution_count": 19
        }
      ]
    },
    {
      "cell_type": "code",
      "source": [
        "# Reset variables to test restore.\n",
        "W = tf.Variable(tf.random.normal([num_features, num_classes]), name=\"weight\")\n",
        "b = tf.Variable(tf.zeros([num_classes]), name=\"bias\")"
      ],
      "metadata": {
        "id": "GCYlHeuOxs8a"
      },
      "execution_count": 20,
      "outputs": []
    },
    {
      "cell_type": "code",
      "source": [
        "# Check resetted weight value.\n",
        "np.mean(W.numpy())"
      ],
      "metadata": {
        "colab": {
          "base_uri": "https://localhost:8080/"
        },
        "id": "Vd60u8Yhyzx-",
        "outputId": "7d5eb88d-37ff-4769-831b-4fa4c599af0d"
      },
      "execution_count": 21,
      "outputs": [
        {
          "output_type": "execute_result",
          "data": {
            "text/plain": [
              "-0.0158106"
            ]
          },
          "metadata": {},
          "execution_count": 21
        }
      ]
    },
    {
      "cell_type": "code",
      "source": [
        "vars_to_load = {\"W\": W, \"b\": b, \"optimizer\": optimizer}\n",
        "checkpoint = tf.train.Checkpoint(**vars_to_load)\n",
        "latest_ckpt = tf.train.latest_checkpoint(\"./tf-example\")\n",
        "checkpoint.restore(latest_ckpt)"
      ],
      "metadata": {
        "colab": {
          "base_uri": "https://localhost:8080/"
        },
        "id": "Gj4K6ETHwjQE",
        "outputId": "d4ca66a4-a2a1-450c-9ff0-49d3479f78ac"
      },
      "execution_count": 23,
      "outputs": [
        {
          "output_type": "execute_result",
          "data": {
            "text/plain": [
              "<tensorflow.python.training.tracking.util.CheckpointLoadStatus at 0x7fe522ed4910>"
            ]
          },
          "metadata": {},
          "execution_count": 23
        }
      ]
    },
    {
      "cell_type": "code",
      "source": [
        "np.mean(W.numpy())"
      ],
      "metadata": {
        "colab": {
          "base_uri": "https://localhost:8080/"
        },
        "id": "CzOgv556zVLP",
        "outputId": "38539da4-6d89-4c72-8444-5ebccf6c4a23"
      },
      "execution_count": 24,
      "outputs": [
        {
          "output_type": "execute_result",
          "data": {
            "text/plain": [
              "-0.09217432"
            ]
          },
          "metadata": {},
          "execution_count": 24
        }
      ]
    },
    {
      "cell_type": "markdown",
      "source": [
        "**2) TF Model**"
      ],
      "metadata": {
        "id": "r-8oRyS0zhXJ"
      }
    },
    {
      "cell_type": "markdown",
      "source": [
        "Basic neural network with TF Model"
      ],
      "metadata": {
        "id": "uG6vgZ_yzk41"
      }
    },
    {
      "cell_type": "code",
      "source": [
        "from tensorflow.keras import Model, layers"
      ],
      "metadata": {
        "id": "TquZCDZ3zaR-"
      },
      "execution_count": 25,
      "outputs": []
    },
    {
      "cell_type": "code",
      "source": [
        "# MNIST dataset parameters.\n",
        "num_classes = 10 # 0 to 9 digits\n",
        "num_features = 784 # 28*28\n",
        "\n",
        "# Training parameters.\n",
        "learning_rate = 0.01\n",
        "training_steps = 1000\n",
        "batch_size = 256\n",
        "display_step = 100"
      ],
      "metadata": {
        "id": "l3xEopLOzswG"
      },
      "execution_count": 26,
      "outputs": []
    },
    {
      "cell_type": "code",
      "source": [
        "# Create TF Model.\n",
        "class NeuralNet(Model):\n",
        "    # Set layers.\n",
        "    def __init__(self):\n",
        "        super(NeuralNet, self).__init__(name=\"NeuralNet\")\n",
        "        # First fully-connected hidden layer.\n",
        "        self.fc1 = layers.Dense(64, activation=tf.nn.relu)\n",
        "        # Second fully-connected hidden layer.\n",
        "        self.fc2 = layers.Dense(128, activation=tf.nn.relu)\n",
        "        # Third fully-connecter hidden layer.\n",
        "        self.out = layers.Dense(num_classes, activation=tf.nn.softmax)\n",
        "\n",
        "    # Set forward pass.\n",
        "    def __call__(self, x, is_training=False):\n",
        "        x = self.fc1(x)\n",
        "        x = self.out(x)\n",
        "        if not is_training:\n",
        "            # tf cross entropy expect logits without softmax, so only\n",
        "            # apply softmax when not training.\n",
        "            x = tf.nn.softmax(x)\n",
        "        return x\n",
        "\n",
        "# Build neural network model.\n",
        "neural_net = NeuralNet()"
      ],
      "metadata": {
        "id": "fQkX1yzzzvXw"
      },
      "execution_count": 27,
      "outputs": []
    },
    {
      "cell_type": "code",
      "source": [
        "# Cross-Entropy loss function.\n",
        "def cross_entropy(y_pred, y_true):\n",
        "    y_true = tf.cast(y_true, tf.int64)\n",
        "    crossentropy = tf.nn.sparse_softmax_cross_entropy_with_logits(labels=y_true, logits=y_pred)\n",
        "    return tf.reduce_mean(crossentropy)\n",
        "\n",
        "# Accuracy metric.\n",
        "def accuracy(y_pred, y_true):\n",
        "    # Predicted class is the index of highest score in prediction vector (i.e. argmax).\n",
        "    correct_prediction = tf.equal(tf.argmax(y_pred, 1), tf.cast(y_true, tf.int64))\n",
        "    return tf.reduce_mean(tf.cast(correct_prediction, tf.float32))\n",
        "\n",
        "# Adam optimizer.\n",
        "optimizer = tf.optimizers.Adam(learning_rate)"
      ],
      "metadata": {
        "id": "iUEsYbLLz0Ud"
      },
      "execution_count": 28,
      "outputs": []
    },
    {
      "cell_type": "code",
      "source": [
        "# Optimization process. \n",
        "def run_optimization(x, y):\n",
        "    # Wrap computation inside a GradientTape for automatic differentiation.\n",
        "    with tf.GradientTape() as g:\n",
        "        pred = neural_net(x, is_training=True)\n",
        "        loss = cross_entropy(pred, y)\n",
        "\n",
        "        # Compute gradients.\n",
        "        gradients = g.gradient(loss, neural_net.trainable_variables)\n",
        "\n",
        "        # Update W and b following gradients.\n",
        "        optimizer.apply_gradients(zip(gradients, neural_net.trainable_variables))"
      ],
      "metadata": {
        "id": "SAwtsm9az36n"
      },
      "execution_count": 29,
      "outputs": []
    },
    {
      "cell_type": "code",
      "source": [
        "# Run training for the given number of steps.\n",
        "for step, (batch_x, batch_y) in enumerate(train_data.take(training_steps), 1):\n",
        "    # Run the optimization to update W and b values.\n",
        "    run_optimization(batch_x, batch_y)\n",
        "    \n",
        "    if step % display_step == 0:\n",
        "        pred = neural_net(batch_x, is_training=False)\n",
        "        loss = cross_entropy(pred, batch_y)\n",
        "        acc = accuracy(pred, batch_y)\n",
        "        print(\"step: %i, loss: %f, accuracy: %f\" % (step, loss, acc))"
      ],
      "metadata": {
        "colab": {
          "base_uri": "https://localhost:8080/"
        },
        "id": "qg049xY6z6pK",
        "outputId": "c15029f0-9600-4a2e-fa2e-86becc3831d5"
      },
      "execution_count": 30,
      "outputs": [
        {
          "output_type": "stream",
          "name": "stdout",
          "text": [
            "step: 100, loss: 2.192535, accuracy: 0.859375\n",
            "step: 200, loss: 2.193727, accuracy: 0.859375\n",
            "step: 300, loss: 2.182334, accuracy: 0.933594\n",
            "step: 400, loss: 2.179169, accuracy: 0.953125\n",
            "step: 500, loss: 2.176396, accuracy: 0.972656\n",
            "step: 600, loss: 2.177567, accuracy: 0.964844\n",
            "step: 700, loss: 2.175521, accuracy: 0.976562\n",
            "step: 800, loss: 2.177242, accuracy: 0.964844\n",
            "step: 900, loss: 2.176783, accuracy: 0.972656\n",
            "step: 1000, loss: 2.177277, accuracy: 0.964844\n"
          ]
        }
      ]
    },
    {
      "cell_type": "markdown",
      "source": [
        "Save and Load with TF Model"
      ],
      "metadata": {
        "id": "y0WAcq4Mz83M"
      }
    },
    {
      "cell_type": "code",
      "source": [
        "neural_net.save_weights(filepath=\"./tfmodel.ckpt\")"
      ],
      "metadata": {
        "id": "nsSiNSROz775"
      },
      "execution_count": 31,
      "outputs": []
    },
    {
      "cell_type": "code",
      "source": [
        "neural_net = NeuralNet()\n",
        "pred = neural_net(batch_x)\n",
        "print(\"accuracy: %f\" % accuracy(pred, batch_y))"
      ],
      "metadata": {
        "colab": {
          "base_uri": "https://localhost:8080/"
        },
        "id": "E2Vciqti0KA2",
        "outputId": "a087ff88-7444-4f1f-9b95-f562981f0e14"
      },
      "execution_count": 33,
      "outputs": [
        {
          "output_type": "stream",
          "name": "stdout",
          "text": [
            "accuracy: 0.062500\n"
          ]
        }
      ]
    },
    {
      "cell_type": "code",
      "source": [
        "# Load saved weights.\n",
        "neural_net.load_weights(filepath=\"./tfmodel.ckpt\")"
      ],
      "metadata": {
        "colab": {
          "base_uri": "https://localhost:8080/"
        },
        "id": "G6OMCzvA0Rie",
        "outputId": "25e41853-62c7-4eaa-e527-81a5df69206f"
      },
      "execution_count": 34,
      "outputs": [
        {
          "output_type": "execute_result",
          "data": {
            "text/plain": [
              "<tensorflow.python.training.tracking.util.CheckpointLoadStatus at 0x7fe5204cfdd0>"
            ]
          },
          "metadata": {},
          "execution_count": 34
        }
      ]
    },
    {
      "cell_type": "code",
      "source": [
        "pred = neural_net(batch_x)\n",
        "print(\"accuracy: %f\" % accuracy(pred, batch_y))"
      ],
      "metadata": {
        "colab": {
          "base_uri": "https://localhost:8080/"
        },
        "id": "23s5lgnI0cry",
        "outputId": "46551701-e4ac-45df-e8d3-32416245678c"
      },
      "execution_count": 35,
      "outputs": [
        {
          "output_type": "stream",
          "name": "stdout",
          "text": [
            "accuracy: 0.964844\n"
          ]
        }
      ]
    }
  ]
}