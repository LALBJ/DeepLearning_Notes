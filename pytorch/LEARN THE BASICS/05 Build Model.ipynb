{
 "cells": [
  {
   "cell_type": "markdown",
   "id": "e7486607-8c38-4dbf-9878-cfa9a6da446f",
   "metadata": {},
   "source": [
    "# 建立神经网络\n",
    "\n",
    "神经网络由对数据进行操作的层/模块组成。torch.nn 提供了构建自己的神经网络所需的所有构建模块。PyTorch中的每个模块都子类化nn.Module。神经网络本身是由其他模块(层)组成的模块。这种嵌套结构允许轻松地构建和管理复杂的体系结构。\n",
    "\n",
    "在下面的部分中，我们将构建一个神经网络来对FashionMNIST数据集中的图像进行分类。"
   ]
  },
  {
   "cell_type": "code",
   "execution_count": 2,
   "id": "dd679c1a-6a7b-434b-89ca-c7b4e6aaa1bb",
   "metadata": {},
   "outputs": [],
   "source": [
    "import os\n",
    "import torch\n",
    "from torch import nn\n",
    "from torch.utils.data import DataLoader\n",
    "from torchvision import datasets, transforms"
   ]
  },
  {
   "cell_type": "markdown",
   "id": "9e61fa8a-742c-43f1-8ef7-6693ff8cb02b",
   "metadata": {},
   "source": [
    "## 训练设备\n",
    "\n",
    "我们希望能够在GPU这样的硬件加速器上训练我们的模型，如果它是可用的。让我们检查一下是否有torch.cuda可用，否则我们继续使用CPU。"
   ]
  },
  {
   "cell_type": "code",
   "execution_count": 3,
   "id": "4716dad2-adf0-4f81-a0e0-d5dcf141f543",
   "metadata": {},
   "outputs": [
    {
     "name": "stdout",
     "output_type": "stream",
     "text": [
      "Using cpu device\n"
     ]
    }
   ],
   "source": [
    "device = \"cuda\" if torch.cuda.is_available() else \"cpu\"\n",
    "print(f\"Using {device} device\")"
   ]
  },
  {
   "cell_type": "markdown",
   "id": "ba8a56c1-63e2-4292-94fd-4e2248a8b3d2",
   "metadata": {},
   "source": [
    "## 定义类\n",
    "\n",
    "我们通过继承 `nn.Module` 类定义神经网络，我们在 `__init__` 方法中初始化神经网络。每一个 `nn.Module` 在 `foward` 方法上实现输入数据的处理操作。"
   ]
  },
  {
   "cell_type": "code",
   "execution_count": 4,
   "id": "241533e9-5c19-4504-98c9-8e1ec4741090",
   "metadata": {},
   "outputs": [],
   "source": [
    "class NeuralNetwork(nn.Module):\n",
    "    def __init__(self):\n",
    "        super(NeuralNetwork, self).__init__()\n",
    "        self.flatten = nn.Flatten()\n",
    "        self.linear_relu_stack = nn.Sequential(\n",
    "            nn.Linear(28*28, 512),\n",
    "            nn.ReLU(),\n",
    "            nn.Linear(512, 512),\n",
    "            nn.ReLU(),\n",
    "            nn.Linear(512, 10),\n",
    "        )\n",
    "\n",
    "    def forward(self, x):\n",
    "        x = self.flatten(x)\n",
    "        logits = self.linear_relu_stack(x)\n",
    "        return logits"
   ]
  },
  {
   "cell_type": "markdown",
   "id": "1fc57754-2b25-43d0-bcbb-e41dd786d90f",
   "metadata": {},
   "source": [
    "我们创建了NeuralNetwork的一个实例，并将其移动到设备上，并打印其结构。"
   ]
  },
  {
   "cell_type": "code",
   "execution_count": 5,
   "id": "55283eb3-e76f-4179-ba15-05c4dd984bdf",
   "metadata": {},
   "outputs": [
    {
     "name": "stdout",
     "output_type": "stream",
     "text": [
      "NeuralNetwork(\n",
      "  (flatten): Flatten()\n",
      "  (linear_relu_stack): Sequential(\n",
      "    (0): Linear(in_features=784, out_features=512, bias=True)\n",
      "    (1): ReLU()\n",
      "    (2): Linear(in_features=512, out_features=512, bias=True)\n",
      "    (3): ReLU()\n",
      "    (4): Linear(in_features=512, out_features=10, bias=True)\n",
      "  )\n",
      ")\n"
     ]
    }
   ],
   "source": [
    "model = NeuralNetwork().to(device)\n",
    "print(model)"
   ]
  },
  {
   "cell_type": "markdown",
   "id": "9105e1fd-ef06-4c9b-ad54-f38be1444350",
   "metadata": {},
   "source": [
    "为了使用模型，我们给他传递输入数据。模型的 `forward` 方法会执行这个过程，而不需要直接调用。\n",
    "\n",
    "对输入调用模型将返回一个10维张量，其中包含每个类的原始预测值。我们通过一个神经网络实例来获得预测概率 nn.Softmax 模块。"
   ]
  },
  {
   "cell_type": "code",
   "execution_count": null,
   "id": "f33b21ac-5489-4a36-ae16-fd93fb967b0f",
   "metadata": {},
   "outputs": [],
   "source": [
    "X = torch.rand(1, 28, 28, device=device)\n",
    "logits = model(X)\n",
    "pred_probab = nn.Softmax(dim=1)(logits)\n",
    "y_pred = pred_probab.argmax(1)\n",
    "print(f\"Predicted class: {y_pred}\")"
   ]
  },
  {
   "cell_type": "code",
   "execution_count": null,
   "id": "7df9d652-b567-4d66-b559-e515ad6e4935",
   "metadata": {},
   "outputs": [],
   "source": []
  }
 ],
 "metadata": {
  "kernelspec": {
   "display_name": "Python 3",
   "language": "python",
   "name": "python3"
  },
  "language_info": {
   "codemirror_mode": {
    "name": "ipython",
    "version": 3
   },
   "file_extension": ".py",
   "mimetype": "text/x-python",
   "name": "python",
   "nbconvert_exporter": "python",
   "pygments_lexer": "ipython3",
   "version": "3.6.13"
  }
 },
 "nbformat": 4,
 "nbformat_minor": 5
}
