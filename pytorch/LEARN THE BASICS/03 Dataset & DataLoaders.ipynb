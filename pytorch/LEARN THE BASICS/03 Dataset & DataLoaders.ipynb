{
 "cells": [
  {
   "cell_type": "markdown",
   "id": "e62993a6-154e-4ecd-b1a6-89e2048f9929",
   "metadata": {},
   "source": [
    "# DATASETS & DATALOADERS\n",
    "\n",
    "编程处理数据时非常繁琐而且难以去维护；理想情况下，为了可读性和模块化我们的数据代码和我们的模型训练代码是解耦合的。PyTorch 提供了两个预加载数据的原语：`torch.utils.data.DataLoader` 和 `torch.utils.data.Dataset` 。`Dataset` 存储了数据和他们对应的标签，而 `DataLoader` 在 `Dataset` 上包了一层迭代器能够帮助我们轻易去处理数据。"
   ]
  },
  {
   "cell_type": "markdown",
   "id": "2e396f45-7490-426c-84f3-36d391b14483",
   "metadata": {},
   "source": [
    "## 加载数据集\n",
    "\n",
    "这里使用 TorchVision 的 [Fashion-MNIST](https://research.zalando.com/project/fashion_mnist/fashion_mnist/) 数据集。Fashion-MNIST 是 Zalando 的文章图片数据集，包含 60,000 条训练数据和 10,000 条测试数据。每一个样例包含一个 28 * 28 的灰度图像以及对应的类型。\n",
    "\n",
    "加载数据集的方法有四个参数：\n",
    "- `root` 训练/测试数据的存储路径\n",
    "- `train` 声明训练/测试数据集\n",
    "- `download=True` 当 `root` 参数不可用时从网络上下载数据\n",
    "- `transform` 和 `target_transform` 指定特征和标签的转换"
   ]
  },
  {
   "cell_type": "code",
   "execution_count": 7,
   "id": "58016787-ab3b-4514-8dab-8dca43e637f1",
   "metadata": {},
   "outputs": [],
   "source": [
    "import torch\n",
    "from torch.utils.data import Dataset\n",
    "from torchvision import datasets\n",
    "from torchvision.transforms import ToTensor\n",
    "import matplotlib.pyplot as plt\n",
    "\n",
    "training_data = datasets.FashionMNIST(\n",
    "    root=\"data\",\n",
    "    train=True,\n",
    "    download=True,\n",
    "    transform=ToTensor()\n",
    ")\n",
    "\n",
    "test_data = datasets.FashionMNIST(\n",
    "    root=\"data\",\n",
    "    train=False,\n",
    "    download=True,\n",
    "    transform=ToTensor()\n",
    ")"
   ]
  },
  {
   "cell_type": "markdown",
   "id": "83a9f8d8-5c8c-42fe-b92b-a55125986d17",
   "metadata": {},
   "source": [
    "## 遍历和可视化数据\n",
    "\n",
    "我们可以像列表一样索引 `Datasets`: `training_data[index]`。我们使用 `matplotlib` 去可视化训练数据"
   ]
  },
  {
   "cell_type": "code",
   "execution_count": 3,
   "id": "6e6344c1-acc0-454c-b63a-a7cec766e652",
   "metadata": {},
   "outputs": [
    {
     "data": {
      "image/png": "[encoded data removed]",
      "text/plain": [
       "<Figure size 576x576 with 9 Axes>"
      ]
     },
     "metadata": {
      "needs_background": "light"
     },
     "output_type": "display_data"
    }
   ],
   "source": [
    "labels_map = {\n",
    "    0: \"T-Shirt\",\n",
    "    1: \"Trouser\",\n",
    "    2: \"Pullover\",\n",
    "    3: \"Dress\",\n",
    "    4: \"Coat\",\n",
    "    5: \"Sandal\",\n",
    "    6: \"Shirt\",\n",
    "    7: \"Sneaker\",\n",
    "    8: \"Bag\",\n",
    "    9: \"Ankle Boot\",\n",
    "}\n",
    "figure = plt.figure(figsize=(8, 8))\n",
    "cols, rows = 3, 3\n",
    "for i in range(1, cols * rows + 1):\n",
    "    sample_idx = torch.randint(len(training_data), size=(1,)).item()\n",
    "    img, label = training_data[sample_idx]\n",
    "    figure.add_subplot(rows, cols, i)\n",
    "    plt.title(labels_map[label])\n",
    "    plt.axis(\"off\")\n",
    "    plt.imshow(img.squeeze(), cmap=\"gray\")\n",
    "plt.show()"
   ]
  },
  {
   "cell_type": "markdown",
   "id": "18c4ecf2-6e26-4615-bddf-f4890c30e011",
   "metadata": {},
   "source": [
    "## 从你的文件中创建一个自定义 Dataset 类\n",
    "\n",
    "一个自定义数据集类必须实现三个函数：__init__, __len__ 和 __getitem__。\n",
    "\n",
    "在下面的部分，我们会拆解每一个函数的内部实现。"
   ]
  },
  {
   "cell_type": "code",
   "execution_count": 4,
   "id": "11f5f2b7-96ca-4024-bb5f-f06e21df9d4c",
   "metadata": {},
   "outputs": [
    {
     "ename": "ImportError",
     "evalue": "cannot import name 'read_image'",
     "output_type": "error",
     "traceback": [
      "\u001b[0;31m---------------------------------------------------------------------------\u001b[0m",
      "\u001b[0;31mImportError\u001b[0m                               Traceback (most recent call last)",
      "\u001b[0;32m<ipython-input-4-616de2b740eb>\u001b[0m in \u001b[0;36m<module>\u001b[0;34m\u001b[0m\n\u001b[1;32m      1\u001b[0m \u001b[0;32mimport\u001b[0m \u001b[0mos\u001b[0m\u001b[0;34m\u001b[0m\u001b[0;34m\u001b[0m\u001b[0m\n\u001b[1;32m      2\u001b[0m \u001b[0;32mimport\u001b[0m \u001b[0mpandas\u001b[0m \u001b[0;32mas\u001b[0m \u001b[0mpd\u001b[0m\u001b[0;34m\u001b[0m\u001b[0;34m\u001b[0m\u001b[0m\n\u001b[0;32m----> 3\u001b[0;31m \u001b[0;32mfrom\u001b[0m \u001b[0mtorchvision\u001b[0m\u001b[0;34m.\u001b[0m\u001b[0mio\u001b[0m \u001b[0;32mimport\u001b[0m \u001b[0mread_image\u001b[0m\u001b[0;34m\u001b[0m\u001b[0;34m\u001b[0m\u001b[0m\n\u001b[0m\u001b[1;32m      4\u001b[0m \u001b[0;34m\u001b[0m\u001b[0m\n\u001b[1;32m      5\u001b[0m \u001b[0;32mclass\u001b[0m \u001b[0mCustomImageDataset\u001b[0m\u001b[0;34m(\u001b[0m\u001b[0mDataset\u001b[0m\u001b[0;34m)\u001b[0m\u001b[0;34m:\u001b[0m\u001b[0;34m\u001b[0m\u001b[0;34m\u001b[0m\u001b[0m\n",
      "\u001b[0;31mImportError\u001b[0m: cannot import name 'read_image'"
     ]
    }
   ],
   "source": [
    "import os \n",
    "import pandas as pd\n",
    "from torchvision.io import read_image\n",
    "\n",
    "class CustomImageDataset(Dataset):\n",
    "    def __init__(self, annotations_file, img_dir, transform=None, target_transform=None):\n",
    "        self.img_labels = pd.read_csv(annotations_file)\n",
    "        self.img_dir = img_dir\n",
    "        self.transform = transform\n",
    "        self.target_transform = target_transform\n",
    "        \n",
    "    def __len(self):\n",
    "        return len(self.img_labels)\n",
    "    \n",
    "    def __getitem__(self, idx):\n",
    "        img_path = os.path.join(self.img_dir, self.img_labels.iloc[idx, 0])\n",
    "        image = read_image(img_path)\n",
    "        label = self.img_labels.iloc[idx, 1]\n",
    "        if self.transform:\n",
    "            image = self.transform(image)\n",
    "        if self.target_transform:\n",
    "            label = self.target_transform(label)\n",
    "        return image, label"
   ]
  },
  {
   "cell_type": "markdown",
   "id": "5ae55355-4333-4fbb-9e07-8b2e349451b7",
   "metadata": {},
   "source": [
    "## 通过 DataLoaders 准备训练所用数据\n",
    "\n",
    "数据集每次检索数据集的特征并标记一个样本。在训练模型时，我们通常希望“小批量”地传递样本，在每个时期重新洗洗数据以减少模型过拟合，并使用Python的多处理来加速数据检索。\n",
    "\n",
    "DataLoader是一个可迭代对象，它用一个简单的API为我们抽象了这种复杂性。"
   ]
  },
  {
   "cell_type": "code",
   "execution_count": 9,
   "id": "73fd1e1a-3872-438d-b3c6-8bf5b0a6438b",
   "metadata": {},
   "outputs": [],
   "source": [
    "from torch.utils.data import DataLoader\n",
    "\n",
    "train_dataloader = DataLoader(training_data, batch_size=64, shuffle=True)\n",
    "test_dataloader = DataLoader(test_data, batch_size=64, shuffle=True)"
   ]
  },
  {
   "cell_type": "markdown",
   "id": "9eccd643-b0c9-42ac-8cb4-39da298ae25a",
   "metadata": {},
   "source": [
    "## 迭代遍历 DataLoader\n",
    "\n",
    "我们已经将该数据集加载到DataLoader中，并可以根据需要遍历该数据集。下面的每次迭代都返回一批train_features和train_labels(分别包含batch_size=64个feature和label)。因为我们指定了shuffle=True，在我们遍历所有批次后，数据被shuffle(对于数据加载顺序的细粒度控制，请查看sampler)。"
   ]
  },
  {
   "cell_type": "code",
   "execution_count": 10,
   "id": "ed7f2293-de02-48a9-a39c-a5e0b824e058",
   "metadata": {},
   "outputs": [
    {
     "name": "stdout",
     "output_type": "stream",
     "text": [
      "Feature batch shape: torch.Size([64, 1, 28, 28])\n",
      "Labels batch shape: torch.Size([64])\n"
     ]
    },
    {
     "data": {
      "image/png": "[encoded data removed]",
      "text/plain": [
       "<Figure size 432x288 with 1 Axes>"
      ]
     },
     "metadata": {
      "needs_background": "light"
     },
     "output_type": "display_data"
    },
    {
     "name": "stdout",
     "output_type": "stream",
     "text": [
      "Label: 0\n"
     ]
    }
   ],
   "source": [
    "train_features, train_labels = next(iter(train_dataloader))\n",
    "print(f\"Feature batch shape: {train_features.size()}\")\n",
    "print(f\"Labels batch shape: {train_labels.size()}\")\n",
    "img = train_features[0].squeeze()\n",
    "label = train_labels[0]\n",
    "plt.imshow(img, cmap=\"gray\")\n",
    "plt.show()\n",
    "print(f\"Label: {label}\")"
   ]
  },
  {
   "cell_type": "code",
   "execution_count": 16,
   "id": "4b5f1889-029f-4fa5-8f97-70430d28f38a",
   "metadata": {},
   "outputs": [
    {
     "data": {
      "text/plain": [
       "torch.Size([28, 28])"
      ]
     },
     "execution_count": 16,
     "metadata": {},
     "output_type": "execute_result"
    }
   ],
   "source": [
    "train_features[0].squeeze().shape"
   ]
  }
 ],
 "metadata": {
  "kernelspec": {
   "display_name": "Python 3",
   "language": "python",
   "name": "python3"
  },
  "language_info": {
   "codemirror_mode": {
    "name": "ipython",
    "version": 3
   },
   "file_extension": ".py",
   "mimetype": "text/x-python",
   "name": "python",
   "nbconvert_exporter": "python",
   "pygments_lexer": "ipython3",
   "version": "3.6.13"
  }
 },
 "nbformat": 4,
 "nbformat_minor": 5
}
