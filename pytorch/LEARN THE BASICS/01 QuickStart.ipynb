{
 "cells": [
  {
   "cell_type": "markdown",
   "id": "b31797bd-6a4c-4349-a9a2-60243e1bd038",
   "metadata": {},
   "source": [
    "# 快速入门\n",
    "\n",
    "在这一部分会介绍机器学习任务中的常见API。并且你可以通过超链接进行进一步的深度学习\n"
   ]
  },
  {
   "cell_type": "markdown",
   "id": "d0cd79f8-e516-4577-9bbe-4b0c7d9973db",
   "metadata": {},
   "source": [
    "## 数据操作\n",
    "\n",
    "Pytorch 有两个[操作数据的原语](https://pytorch.org/docs/stable/data.html)：`torch.utils.data.DataLoader` 和 `torch.utils.data.Dataset`。`DataSet` 存储了样例数据和他们对应的标签，而 `DataLoader` 在 `DataSet` 包了一层迭代器。"
   ]
  },
  {
   "cell_type": "code",
   "execution_count": 3,
   "id": "a9a934c7-6a82-408e-a7c8-361aaad34b74",
   "metadata": {},
   "outputs": [],
   "source": [
    "import torch \n",
    "from torch import nn\n",
    "from torch.utils.data import DataLoader\n",
    "from torchvision import datasets\n",
    "from torchvision.transforms import ToTensor"
   ]
  },
  {
   "cell_type": "markdown",
   "id": "9eab5d9b-d64c-485f-a5a3-964b54900078",
   "metadata": {},
   "source": [
    "Pytorch 提供了各个领域的专用库比如 [TorchText](https://pytorch.org/text/stable/index.html)、 [TorchVision](https://pytorch.org/vision/stable/index.html)、 [TorchAudio](https://pytorch.org/audio/stable/index.html)，并且每个库都有对应的数据集。在这个教程中，我们将会使用 TorchVision 数据集。\n",
    "\n",
    "`torchvision.datasets` 模块以 `Dataset` 对象存储了许多真实世界的数据比如 CIFAR, COCO（[完整的数据集](https://pytorch.org/vision/stable/datasets.html)）。在这个教程中，我们使用了 FashionMNIST 数据集。每一个 `DataSet` 对象包含两个参数： `transform` 和 `target_transform` 分别用于更新样例数据和标签。"
   ]
  },
  {
   "cell_type": "code",
   "execution_count": 4,
   "id": "e61be1cf-54e6-441e-acbf-8596bc428f9c",
   "metadata": {},
   "outputs": [],
   "source": [
    "# Download training data from open datasets.\n",
    "training_data = datasets.FashionMNIST(\n",
    "    root=\"data\",\n",
    "    train=True,\n",
    "    download=True,\n",
    "    transform=ToTensor(),\n",
    ")\n",
    "\n",
    "# Download test data from open datasets.\n",
    "test_data = datasets.FashionMNIST(\n",
    "    root=\"data\",\n",
    "    train=False,\n",
    "    download=True,\n",
    "    transform=ToTensor(),\n",
    ")"
   ]
  },
  {
   "cell_type": "markdown",
   "id": "b9e50613-0a99-483f-9103-48f5d86bce3b",
   "metadata": {},
   "source": [
    "我们将 `Dataset` 作为参数传给 `DataLoader`。它在我们的数据集之上封装了一个迭代器，并且支持自动批处理、采样、变换和多进程数据加载。在这里我们定义批大小为 64，也就是说 dataloader 迭代器上的每一个元素将会返回批量大小为 64 的特征数据和标签。"
   ]
  },
  {
   "cell_type": "code",
   "execution_count": 5,
   "id": "5d3dcd68-6d6c-4027-b9bb-ca080a87848d",
   "metadata": {},
   "outputs": [
    {
     "name": "stdout",
     "output_type": "stream",
     "text": [
      "Shape of X [N, C, H, W]: torch.Size([64, 1, 28, 28])\n",
      "Shape of y: torch.Size([64]) torch.int64\n"
     ]
    }
   ],
   "source": [
    "batch_size = 64\n",
    "\n",
    "# Create data loaders.\n",
    "train_dataloader = DataLoader(training_data, batch_size=batch_size)\n",
    "test_dataloader = DataLoader(test_data, batch_size=batch_size)\n",
    "\n",
    "for X, y in test_dataloader:\n",
    "    print(f\"Shape of X [N, C, H, W]: {X.shape}\")\n",
    "    print(f\"Shape of y: {y.shape} {y.dtype}\")\n",
    "    break"
   ]
  },
  {
   "cell_type": "markdown",
   "id": "f41c9a4b-877c-4cfe-8cb0-8b6c8f08792c",
   "metadata": {},
   "source": [
    "通过 [loading data in PyTorch](https://pytorch.org/tutorials/beginner/basics/data_tutorial.html) 章节了解更多 "
   ]
  },
  {
   "cell_type": "markdown",
   "id": "a5fc1b34-06d2-4245-9f78-97dc34e15474",
   "metadata": {},
   "source": [
    "## 构建模型\n",
    "\n",
    "我们构建了一个类继承于[nn.Module](https://pytorch.org/docs/stable/generated/torch.nn.Module.html)去定义神经网络。我们在 `__init__` 方法中定义了网络层并且在 `forward` 方法中规定了怎么将数据传递给网络。为了加快神经网络操作，我们在 GPU 上进行训练。"
   ]
  },
  {
   "cell_type": "code",
   "execution_count": 6,
   "id": "27b59c80-16a9-4209-b28b-f882578990a6",
   "metadata": {
    "tags": []
   },
   "outputs": [
    {
     "name": "stdout",
     "output_type": "stream",
     "text": [
      "Using cpu device\n",
      "NeuralNetwork(\n",
      "  (flatten): Flatten()\n",
      "  (linear_relu_stack): Sequential(\n",
      "    (0): Linear(in_features=784, out_features=512, bias=True)\n",
      "    (1): ReLU()\n",
      "    (2): Linear(in_features=512, out_features=512, bias=True)\n",
      "    (3): ReLU()\n",
      "    (4): Linear(in_features=512, out_features=10, bias=True)\n",
      "  )\n",
      ")\n"
     ]
    }
   ],
   "source": [
    "# Get cpu or gpu device for training.\n",
    "device = \"cuda\" if torch.cuda.is_available() else \"cpu\"\n",
    "print(f\"Using {device} device\")\n",
    "\n",
    "# Define model\n",
    "class NeuralNetwork(nn.Module):\n",
    "    def __init__(self):\n",
    "        super(NeuralNetwork, self).__init__()\n",
    "        self.flatten = nn.Flatten()\n",
    "        self.linear_relu_stack = nn.Sequential(\n",
    "            nn.Linear(28*28, 512),\n",
    "            nn.ReLU(),\n",
    "            nn.Linear(512, 512),\n",
    "            nn.ReLU(),\n",
    "            nn.Linear(512, 10)\n",
    "        )\n",
    "\n",
    "    def forward(self, x):\n",
    "        x = self.flatten(x)\n",
    "        logits = self.linear_relu_stack(x)\n",
    "        return logits\n",
    "\n",
    "model = NeuralNetwork().to(device)\n",
    "print(model)"
   ]
  },
  {
   "cell_type": "markdown",
   "id": "6c58d7c6-6b19-41d0-aba5-cd2d19eaced0",
   "metadata": {},
   "source": [
    "通过 [buiding neural networks in Pytorch](https://pytorch.org/tutorials/beginner/basics/buildmodel_tutorial.html) 章节了解更多 "
   ]
  },
  {
   "cell_type": "markdown",
   "id": "514c1e21-bd93-4e95-8600-e9a3dd39d52f",
   "metadata": {},
   "source": [
    "## 优化模型参数\n",
    "\n",
    "为了训练模型，我们需要一个[损失函数](https://pytorch.org/docs/stable/nn.html#loss-functions)和一个[优化器](https://pytorch.org/docs/stable/optim.html)。"
   ]
  },
  {
   "cell_type": "code",
   "execution_count": 7,
   "id": "ddb79f26-9f21-448e-88b0-71e6ed166a66",
   "metadata": {},
   "outputs": [],
   "source": [
    "loss_fn = nn.CrossEntropyLoss()\n",
    "optimizer = torch.optim.SGD(model.parameters(), lr=1e-3)"
   ]
  },
  {
   "cell_type": "markdown",
   "id": "7393a0b5-ba1b-4b74-893a-2b72c9ed5b5a",
   "metadata": {},
   "source": [
    "在一个单独的训练周期中，模型对训练数据集进行预测（批量预测），并通过反向传播预测误差以调整模型的参数。"
   ]
  },
  {
   "cell_type": "code",
   "execution_count": 8,
   "id": "0216f322-0e08-4855-9421-ebef48ffe797",
   "metadata": {},
   "outputs": [],
   "source": [
    "def train(dataloader, model, loss_fn, optimizer):\n",
    "    size = len(dataloader.dataset)\n",
    "    model.train()\n",
    "    for batch, (X, y) in enumerate(dataloader):\n",
    "        X, y = X.to(device), y.to(device)\n",
    "\n",
    "        # Compute prediction error\n",
    "        pred = model(X)\n",
    "        loss = loss_fn(pred, y)\n",
    "\n",
    "        # Backpropagation\n",
    "        optimizer.zero_grad()\n",
    "        loss.backward()\n",
    "        optimizer.step()\n",
    "\n",
    "        if batch % 100 == 0:\n",
    "            loss, current = loss.item(), batch * len(X)\n",
    "            print(f\"loss: {loss:>7f}  [{current:>5d}/{size:>5d}]\")"
   ]
  },
  {
   "cell_type": "markdown",
   "id": "81a0848a-6fa0-4665-a617-68b735b28a2c",
   "metadata": {},
   "source": [
    "我们还通过测试数据集检查模型性能去确保模型正在学习。"
   ]
  },
  {
   "cell_type": "code",
   "execution_count": 9,
   "id": "492a7563-f9dd-43b5-a8b8-79eccddab60e",
   "metadata": {},
   "outputs": [],
   "source": [
    "def test(dataloader, model, loss_fn):\n",
    "    size = len(dataloader.dataset)\n",
    "    num_batches = len(dataloader)\n",
    "    model.eval()\n",
    "    test_loss, correct = 0, 0\n",
    "    with torch.no_grad():\n",
    "        for X, y in dataloader:\n",
    "            X, y = X.to(device), y.to(device)\n",
    "            pred = model(X)\n",
    "            test_loss += loss_fn(pred, y).item()\n",
    "            correct += (pred.argmax(1) == y).type(torch.float).sum().item()\n",
    "    test_loss /= num_batches\n",
    "    correct /= size\n",
    "    print(f\"Test Error: \\n Accuracy: {(100*correct):>0.1f}%, Avg loss: {test_loss:>8f} \\n\")"
   ]
  },
  {
   "cell_type": "markdown",
   "id": "b7c43c2a-f294-4739-8db2-b5d098270454",
   "metadata": {},
   "source": [
    "训练过程在几个迭代（epochs）中进行。每一个迭代中，模型训练参数是为了得到更好的预测效果。我们打印出了每一次迭代周期模型的准确性和损失函数。我们期待的结果是更大的准确率和更小的损失函数。"
   ]
  },
  {
   "cell_type": "code",
   "execution_count": null,
   "id": "cc64bf8a-4f57-4b30-87a7-854e91a5832f",
   "metadata": {},
   "outputs": [],
   "source": [
    "epochs = 5\n",
    "for t in range(epochs):\n",
    "    print(f\"Epoch {t+1}\\n-------------------------------\")\n",
    "    train(train_dataloader, model, loss_fn, optimizer)\n",
    "    test(test_dataloader, model, loss_fn)\n",
    "print(\"Done!\")"
   ]
  },
  {
   "cell_type": "markdown",
   "id": "fcfb6e76-de07-4f04-a035-4c1a9fec8c29",
   "metadata": {},
   "source": [
    "通过 [Train your model](https://pytorch.org/tutorials/beginner/basics/optimization_tutorial.html) 章节了解更多 "
   ]
  },
  {
   "cell_type": "markdown",
   "id": "30125c34-0c45-423d-9fae-e625e3760a92",
   "metadata": {},
   "source": [
    "## 保存模型\n",
    "\n",
    "保存模型的一个常见方法是序列化内部状态字典（包含模型的参数）。"
   ]
  },
  {
   "cell_type": "code",
   "execution_count": null,
   "id": "69b91ec6-a03b-428b-9266-6d3a39d73104",
   "metadata": {},
   "outputs": [],
   "source": [
    "torch.save(model.state_dict(), \"model.pth\")\n",
    "print(\"Saved PyTorch Model State to model.pth\")"
   ]
  },
  {
   "cell_type": "markdown",
   "id": "2c122eac-7349-423b-8147-d5560c855809",
   "metadata": {},
   "source": [
    "## 加载模型\n",
    "\n",
    "加载模型的过程包括重建模型结构和加载状态字典"
   ]
  },
  {
   "cell_type": "code",
   "execution_count": null,
   "id": "c18bf3a8-0026-4e1c-a411-640b327d5e3c",
   "metadata": {},
   "outputs": [],
   "source": [
    "model = NeuralNetwork()\n",
    "model.load_state_dict(torch.load(\"model.pth\"))"
   ]
  },
  {
   "cell_type": "markdown",
   "id": "664ebdb7-3e14-4b59-bf87-f1bf40b8e6a1",
   "metadata": {},
   "source": [
    "这个模型现在可以被用于预测了"
   ]
  },
  {
   "cell_type": "code",
   "execution_count": null,
   "id": "1b9133c4-b0bf-4d12-86ab-503b6077aa5f",
   "metadata": {},
   "outputs": [],
   "source": [
    "classes = [\n",
    "    \"T-shirt/top\",\n",
    "    \"Trouser\",\n",
    "    \"Pullover\",\n",
    "    \"Dress\",\n",
    "    \"Coat\",\n",
    "    \"Sandal\",\n",
    "    \"Shirt\",\n",
    "    \"Sneaker\",\n",
    "    \"Bag\",\n",
    "    \"Ankle boot\",\n",
    "]\n",
    "\n",
    "model.eval()\n",
    "x, y = test_data[0][0], test_data[0][1]\n",
    "with torch.no_grad():\n",
    "    pred = model(x)\n",
    "    predicted, actual = classes[pred[0].argmax(0)], classes[y]\n",
    "    print(f'Predicted: \"{predicted}\", Actual: \"{actual}\"')"
   ]
  },
  {
   "cell_type": "markdown",
   "id": "8d521b2d-35b3-4de6-be3c-689d6a077493",
   "metadata": {},
   "source": [
    "通过 [Saving & Loading your model](https://pytorch.org/tutorials/beginner/basics/saveloadrun_tutorial.html) 章节了解更多 "
   ]
  }
 ],
 "metadata": {
  "kernelspec": {
   "display_name": "Python 3",
   "language": "python",
   "name": "python3"
  },
  "language_info": {
   "codemirror_mode": {
    "name": "ipython",
    "version": 3
   },
   "file_extension": ".py",
   "mimetype": "text/x-python",
   "name": "python",
   "nbconvert_exporter": "python",
   "pygments_lexer": "ipython3",
   "version": "3.6.13"
  }
 },
 "nbformat": 4,
 "nbformat_minor": 5
}
