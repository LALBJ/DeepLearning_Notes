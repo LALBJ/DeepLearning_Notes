{
 "cells": [
  {
   "cell_type": "markdown",
   "id": "1e6d7c9f-20d8-4e2a-ab15-9041d846b84d",
   "metadata": {},
   "source": [
    "# TRANSFORMS\n",
    "\n",
    "数据并不总是以训练机器学习算法所需的最终处理形式出现。我们使用转换来执行数据的一些操作，使其适合于训练。\n",
    "\n",
    "所有的 TorchVision 数据集有两个参数- `transform` 去更新特征以及 `target_transform` 去更新标签并接受一个包含转换逻辑的回调。`torchvision.transforms` 模块提供了几种常用的开箱即用的转换。\n",
    "\n",
    "FashionMNIST特征是 PIL 图片格式，标签是整数。对于训练，我们需要特征作为归一化张量，标签作为独热编码张量。为了做这些变换，我们用 `ToTensor` 和 `Lambda`。"
   ]
  },
  {
   "cell_type": "code",
   "execution_count": 1,
   "id": "fd0a43e9-0a3a-4b7b-83c7-3ac1b647b9d0",
   "metadata": {},
   "outputs": [],
   "source": [
    "import torch \n",
    "from torchvision import datasets\n",
    "from torchvision.transforms import ToTensor, Lambda\n",
    "\n",
    "ds = datasets.FashionMNIST(\n",
    "    root=\"data\",\n",
    "    train=True,\n",
    "    download=True,\n",
    "    transform=ToTensor(),\n",
    "    target_transform=Lambda(lambda y: torch.zeros(10, dtype=torch.float).scatter_(0, torch.tensor(y), value=1))\n",
    ")"
   ]
  },
  {
   "cell_type": "markdown",
   "id": "be02f9fb-cb6f-427a-a9d9-a5bdb462f008",
   "metadata": {},
   "source": [
    "## ToTensor()\n",
    "\n",
    "ToTensor 将 PIL 图片或者 Numpy 的 `ndarray` 转换为 `FloatTensor`。并且将图片像素密度缩放至[0., 1.]\n",
    "\n",
    "## Lambda 变换\n",
    "\n",
    "Lambda 变换提供任意用户定义的 lambda 函数。这里，我们定义一个函数将整数转换为独热编码的张亮。它首先创建了一个大小为 10 的 0 张量并调用scatter_，它在标号y所给出的索引上赋值=1。"
   ]
  },
  {
   "cell_type": "code",
   "execution_count": 2,
   "id": "4da9c547-982a-4ad8-a231-4c678e3c80ac",
   "metadata": {},
   "outputs": [],
   "source": [
    "target_transform = Lambda(lambda y: torch.zeros(\n",
    "    10, dtype=torch.float).scatter_(dim=0, index=torch.tensor(y), value=1))"
   ]
  }
 ],
 "metadata": {
  "kernelspec": {
   "display_name": "Python 3",
   "language": "python",
   "name": "python3"
  },
  "language_info": {
   "codemirror_mode": {
    "name": "ipython",
    "version": 3
   },
   "file_extension": ".py",
   "mimetype": "text/x-python",
   "name": "python",
   "nbconvert_exporter": "python",
   "pygments_lexer": "ipython3",
   "version": "3.6.13"
  }
 },
 "nbformat": 4,
 "nbformat_minor": 5
}
