{
 "cells": [
  {
   "cell_type": "markdown",
   "id": "e7486607-8c38-4dbf-9878-cfa9a6da446f",
   "metadata": {},
   "source": [
    "# 建立神经网络\n",
    "\n",
    "神经网络由对数据进行操作的层/模块组成。torch.nn 提供了构建自己的神经网络所需的所有构建模块。PyTorch中的每个模块都子类化nn.Module。神经网络本身是由其他模块(层)组成的模块。这种嵌套结构允许轻松地构建和管理复杂的体系结构。\n",
    "\n",
    "在下面的部分中，我们将构建一个神经网络来对FashionMNIST数据集中的图像进行分类。"
   ]
  },
  {
   "cell_type": "code",
   "execution_count": 1,
   "id": "dd679c1a-6a7b-434b-89ca-c7b4e6aaa1bb",
   "metadata": {},
   "outputs": [],
   "source": [
    "import os\n",
    "import torch\n",
    "from torch import nn\n",
    "from torch.utils.data import DataLoader\n",
    "from torchvision import datasets, transforms"
   ]
  },
  {
   "cell_type": "markdown",
   "id": "9e61fa8a-742c-43f1-8ef7-6693ff8cb02b",
   "metadata": {},
   "source": [
    "## 训练设备\n",
    "\n",
    "我们希望能够在GPU这样的硬件加速器上训练我们的模型，如果它是可用的。让我们检查一下是否有torch.cuda可用，否则我们继续使用CPU。"
   ]
  },
  {
   "cell_type": "code",
   "execution_count": 2,
   "id": "4716dad2-adf0-4f81-a0e0-d5dcf141f543",
   "metadata": {},
   "outputs": [
    {
     "name": "stdout",
     "output_type": "stream",
     "text": [
      "Using cpu device\n"
     ]
    }
   ],
   "source": [
    "device = \"cuda\" if torch.cuda.is_available() else \"cpu\"\n",
    "print(f\"Using {device} device\")"
   ]
  },
  {
   "cell_type": "markdown",
   "id": "ba8a56c1-63e2-4292-94fd-4e2248a8b3d2",
   "metadata": {},
   "source": [
    "## 定义类\n",
    "\n",
    "我们通过继承 `nn.Module` 类定义神经网络，我们在 `__init__` 方法中初始化神经网络。每一个 `nn.Module` 在 `foward` 方法上实现输入数据的处理操作。"
   ]
  },
  {
   "cell_type": "code",
   "execution_count": null,
   "id": "241533e9-5c19-4504-98c9-8e1ec4741090",
   "metadata": {},
   "outputs": [],
   "source": [
    "class NeuralNetwork(nn.Module):\n",
    "    def __init__(self):\n",
    "        super(NeuralNetwork, self).__init__()\n",
    "        self.flatten = nn.Flatten()\n",
    "        self.linear_relu_stack = nn.Sequential(\n",
    "            nn.Linear(28 * 28, 512),\n",
    "            nn.ReLU(),\n",
    "            nn.Linear(512, 512),\n",
    "            nn.ReLU(),\n",
    "            nn.Linear(512, 10),\n",
    "        )\n",
    "    \n",
    "    def forward(self, x):\n",
    "        x = self.flatten(x)\n",
    "        logits = self.linear_relu_stack(x)\n",
    "        return logits"
   ]
  }
 ],
 "metadata": {
  "kernelspec": {
   "display_name": "Python 3",
   "language": "python",
   "name": "python3"
  },
  "language_info": {
   "codemirror_mode": {
    "name": "ipython",
    "version": 3
   },
   "file_extension": ".py",
   "mimetype": "text/x-python",
   "name": "python",
   "nbconvert_exporter": "python",
   "pygments_lexer": "ipython3",
   "version": "3.6.13"
  }
 },
 "nbformat": 4,
 "nbformat_minor": 5
}
