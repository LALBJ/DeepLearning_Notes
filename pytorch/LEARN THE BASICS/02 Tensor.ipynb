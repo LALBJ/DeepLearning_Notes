{
 "cells": [
  {
   "cell_type": "markdown",
   "id": "2084864e-ab6f-4c76-92b2-97ea2ef0a5e5",
   "metadata": {},
   "source": [
    "# TENSORS\n",
    "\n",
    "Tensors 是一个特殊的数据结构，它和数组和矩阵非常相似。在 PyTorch，我们使用 tensors 去编码模型的输入和输出，以及模型的参数\n",
    "\n",
    "Tensors 与 [Numpy](https://numpy.org/) 的 ndarrays 非常相似，不过 tensors 可以运行在 GPU 或者其他的硬件加速器上。事实上， tensor 和 Numpy 的数据都经常共享底层的内存，[抵消了复制数据的需要](https://pytorch.org/tutorials/beginner/blitz/tensor_tutorial.html#bridge-to-np-label)。Tensors 也为自动微分提供了优化。如果你熟悉 ndarrays，你在使用 Tensor 提供的 API 时就会感觉像回到了家一样。"
   ]
  },
  {
   "cell_type": "code",
   "execution_count": 1,
   "id": "6c0305d6-51ee-443e-9504-d59b477b016e",
   "metadata": {},
   "outputs": [],
   "source": [
    "import torch\n",
    "import numpy as np"
   ]
  },
  {
   "cell_type": "markdown",
   "id": "45cd7d5b-2c8f-414b-9060-3b8662966f49",
   "metadata": {},
   "source": [
    "## 初始化 Tensor\n",
    "\n",
    "Tensors 有多种初始化方式：\n",
    "\n",
    "### 直接从数据创建\n",
    "\n",
    "Tensors 可以直接从数据中创建。数据类型会被自动推断出来。"
   ]
  },
  {
   "cell_type": "code",
   "execution_count": 3,
   "id": "2dd6a5db-cd8c-49e6-8e0e-4ad472912ed5",
   "metadata": {},
   "outputs": [],
   "source": [
    "data = [[1, 2],[3, 4]]\n",
    "x_data = torch.tensor(data)"
   ]
  },
  {
   "cell_type": "markdown",
   "id": "2403684f-8ffa-4726-89e1-6f4ebb502b5b",
   "metadata": {},
   "source": [
    "### 从 Numpy 数组中创建\n",
    "\n",
    "Tensors 可以直接从 Numpy 数组中创建（反之亦然）。"
   ]
  },
  {
   "cell_type": "code",
   "execution_count": 4,
   "id": "cdb2b677-7b89-45b9-bd27-1f52ce3c1b62",
   "metadata": {},
   "outputs": [],
   "source": [
    "np_array = np.array(data)\n",
    "x_np = torch.from_numpy(np_array)"
   ]
  },
  {
   "cell_type": "markdown",
   "id": "ee055b2f-e29b-4a64-bf6b-df8283222e98",
   "metadata": {},
   "source": [
    "### 从另一个 tensor 中创建：\n",
    "\n",
    "新的张量保存着作为参数的张量的属性（shape, datatype）除非显示地覆盖。"
   ]
  },
  {
   "cell_type": "code",
   "execution_count": 5,
   "id": "81da8078-10ec-49f4-9bb9-1ae0956460a5",
   "metadata": {},
   "outputs": [
    {
     "name": "stdout",
     "output_type": "stream",
     "text": [
      "Ones Tensor: \n",
      " tensor([[1, 1],\n",
      "        [1, 1]]) \n",
      "\n",
      "Random Tensor: \n",
      " tensor([[0.5328, 0.8486],\n",
      "        [0.7813, 0.3194]]) \n",
      "\n"
     ]
    }
   ],
   "source": [
    "x_ones = torch.ones_like(x_data) # retains the properties of x_data\n",
    "print(f\"Ones Tensor: \\n {x_ones} \\n\")\n",
    "\n",
    "x_rand = torch.rand_like(x_data, dtype=torch.float) # overrides the datatype of x_data\n",
    "print(f\"Random Tensor: \\n {x_rand} \\n\")"
   ]
  },
  {
   "cell_type": "markdown",
   "id": "b891862c-7556-4e81-b17f-5ce78c022497",
   "metadata": {},
   "source": [
    "### 通过随机或者常量初始化\n",
    "\n",
    "`shape` 是一个张量维度的元组。在下面的函数中，它决定了输出张量的维度。"
   ]
  },
  {
   "cell_type": "code",
   "execution_count": 6,
   "id": "1317fe35-3e4f-42ff-bff6-0d5e9d9b8179",
   "metadata": {},
   "outputs": [
    {
     "name": "stdout",
     "output_type": "stream",
     "text": [
      "Random Tensor: \n",
      " tensor([[0.7442, 0.9863, 0.0858],\n",
      "        [0.4938, 0.2646, 0.1570]]) \n",
      "\n",
      "Ones Tensor: \n",
      " tensor([[1., 1., 1.],\n",
      "        [1., 1., 1.]]) \n",
      "\n",
      "Zeros Tensor: \n",
      " tensor([[0., 0., 0.],\n",
      "        [0., 0., 0.]])\n"
     ]
    }
   ],
   "source": [
    "shape = (2,3,)\n",
    "rand_tensor = torch.rand(shape)\n",
    "ones_tensor = torch.ones(shape)\n",
    "zeros_tensor = torch.zeros(shape)\n",
    "\n",
    "print(f\"Random Tensor: \\n {rand_tensor} \\n\")\n",
    "print(f\"Ones Tensor: \\n {ones_tensor} \\n\")\n",
    "print(f\"Zeros Tensor: \\n {zeros_tensor}\")"
   ]
  },
  {
   "cell_type": "markdown",
   "id": "52cbddc7-f0b3-4bdf-a00a-3c1d3ab721d4",
   "metadata": {},
   "source": [
    "## Tensor 的属性\n",
    "\n",
    "张量的属性包括 shape, datatype 以及存储他们的设备"
   ]
  },
  {
   "cell_type": "code",
   "execution_count": 7,
   "id": "69f5c0de-0204-410b-8246-fcb1919ac43d",
   "metadata": {},
   "outputs": [
    {
     "name": "stdout",
     "output_type": "stream",
     "text": [
      "Shape of tensor: torch.Size([3, 4])\n",
      "Datatype of tensor: torch.float32\n",
      "Device tensor is stored on: cpu\n"
     ]
    }
   ],
   "source": [
    "tensor = torch.rand(3,4)\n",
    "\n",
    "print(f\"Shape of tensor: {tensor.shape}\")\n",
    "print(f\"Datatype of tensor: {tensor.dtype}\")\n",
    "print(f\"Device tensor is stored on: {tensor.device}\")"
   ]
  },
  {
   "cell_type": "markdown",
   "id": "91d44160-11bf-4d69-85a3-718151d92d9a",
   "metadata": {},
   "source": [
    "## 张量上的操作\n",
    "\n",
    "超过一百个张量操作，包括算数，线性代数，矩阵计算（转制、索引、切片），采样\n",
    "\n",
    "这些操作都运行在 GPU 上（通常比 CPU 上快）\n",
    "\n",
    "默认情况下，张量创建在 CPU 上。我们需要显示地通过 `.to` 方法将张量移动到 GPU 上（需要检查一下设备是否有可用 GPU ）。需要记住跨设备复制大规模张量在时间和内存上的消耗都是十分昂贵的！"
   ]
  },
  {
   "cell_type": "code",
   "execution_count": 8,
   "id": "216294e8-ef8a-4107-a48b-b5fadfd0279a",
   "metadata": {},
   "outputs": [],
   "source": [
    "# We move our tensor to the GPU if available\n",
    "if torch.cuda.is_available():\n",
    "    tensor = tensor.to(\"cuda\")"
   ]
  },
  {
   "cell_type": "markdown",
   "id": "fcef3409-7ad5-4249-a2d1-734a86bdb5da",
   "metadata": {},
   "source": [
    "**标准的 numpy 形式的索引和切片**"
   ]
  },
  {
   "cell_type": "code",
   "execution_count": 9,
   "id": "76cc08a4-8b15-4553-b04a-eca4b94cdca6",
   "metadata": {},
   "outputs": [
    {
     "name": "stdout",
     "output_type": "stream",
     "text": [
      "First row: tensor([1., 1., 1., 1.])\n",
      "First column: tensor([1., 1., 1., 1.])\n",
      "Last column: tensor([1., 1., 1., 1.])\n",
      "tensor([[1., 0., 1., 1.],\n",
      "        [1., 0., 1., 1.],\n",
      "        [1., 0., 1., 1.],\n",
      "        [1., 0., 1., 1.]])\n"
     ]
    }
   ],
   "source": [
    "tensor = torch.ones(4, 4)\n",
    "print(f\"First row: {tensor[0]}\")\n",
    "print(f\"First column: {tensor[:, 0]}\")\n",
    "print(f\"Last column: {tensor[..., -1]}\")\n",
    "tensor[:, 1] = 0\n",
    "print(tensor)"
   ]
  },
  {
   "cell_type": "markdown",
   "id": "adfff33a-0925-4e8e-8b17-3248dc9f7f76",
   "metadata": {},
   "source": [
    "**连接张量** 你可以使用 `torch.cat` 沿给定的维数串联张量。"
   ]
  },
  {
   "cell_type": "code",
   "execution_count": 12,
   "id": "f7278fb2-1063-4c91-b792-ee5355adc9a0",
   "metadata": {},
   "outputs": [
    {
     "name": "stdout",
     "output_type": "stream",
     "text": [
      "tensor([[1., 0., 1., 1., 1., 0., 1., 1., 1., 0., 1., 1.],\n",
      "        [1., 0., 1., 1., 1., 0., 1., 1., 1., 0., 1., 1.],\n",
      "        [1., 0., 1., 1., 1., 0., 1., 1., 1., 0., 1., 1.],\n",
      "        [1., 0., 1., 1., 1., 0., 1., 1., 1., 0., 1., 1.]])\n"
     ]
    }
   ],
   "source": [
    "t1 = torch.cat([tensor, tensor, tensor], dim=1)\n",
    "print(t1)"
   ]
  },
  {
   "cell_type": "markdown",
   "id": "16e42504-6db9-4073-862f-e22227a60440",
   "metadata": {},
   "source": [
    "**算术运算**"
   ]
  },
  {
   "cell_type": "code",
   "execution_count": 13,
   "id": "6fcfa24a-de6a-4a2c-b11d-cd5735ad9df4",
   "metadata": {},
   "outputs": [
    {
     "data": {
      "text/plain": [
       "tensor([[1., 0., 1., 1.],\n",
       "        [1., 0., 1., 1.],\n",
       "        [1., 0., 1., 1.],\n",
       "        [1., 0., 1., 1.]])"
      ]
     },
     "execution_count": 13,
     "metadata": {},
     "output_type": "execute_result"
    }
   ],
   "source": [
    "# This computes the matrix multiplication between two tensors. y1, y2, y3 will have the same value\n",
    "y1 = tensor @ tensor.T\n",
    "y2 = tensor.matmul(tensor.T)\n",
    "\n",
    "y3 = torch.rand_like(tensor)\n",
    "torch.matmul(tensor, tensor.T, out=y3)\n",
    "\n",
    "\n",
    "# This computes the element-wise product. z1, z2, z3 will have the same value\n",
    "z1 = tensor * tensor\n",
    "z2 = tensor.mul(tensor)\n",
    "\n",
    "z3 = torch.rand_like(tensor)\n",
    "torch.mul(tensor, tensor, out=z3)"
   ]
  },
  {
   "cell_type": "markdown",
   "id": "48bb2d2a-53f8-40d6-9eee-7f6e559936aa",
   "metadata": {},
   "source": [
    "**单元素张量** 如果你有一个单元素张量，比如通过将张量所有的值聚合到一个单独值上，你可以通过 `item()` 将其转换为 Python 中的数值"
   ]
  },
  {
   "cell_type": "code",
   "execution_count": 14,
   "id": "3c9cd42d-eb0a-4620-884d-2bbf978998ac",
   "metadata": {},
   "outputs": [
    {
     "name": "stdout",
     "output_type": "stream",
     "text": [
      "12.0 <class 'float'>\n"
     ]
    }
   ],
   "source": [
    "agg = tensor.sum()\n",
    "agg_item = agg.item()\n",
    "print(agg_item, type(agg_item))"
   ]
  },
  {
   "cell_type": "markdown",
   "id": "823ed757-f9f0-40b1-b3bd-9b748fdbf780",
   "metadata": {},
   "source": [
    "**原地操作** 直接将操作结果存储在操作数上的操作叫做原地操作。他们以 `_` 后缀来表示。比如： `x.copy_(y)`， `x.t_()` 将会改变 `x`"
   ]
  },
  {
   "cell_type": "code",
   "execution_count": 15,
   "id": "3bf9d314-f21b-4578-b0e7-83876c0696d0",
   "metadata": {},
   "outputs": [
    {
     "name": "stdout",
     "output_type": "stream",
     "text": [
      "tensor([[1., 0., 1., 1.],\n",
      "        [1., 0., 1., 1.],\n",
      "        [1., 0., 1., 1.],\n",
      "        [1., 0., 1., 1.]]) \n",
      "\n",
      "tensor([[6., 5., 6., 6.],\n",
      "        [6., 5., 6., 6.],\n",
      "        [6., 5., 6., 6.],\n",
      "        [6., 5., 6., 6.]])\n"
     ]
    }
   ],
   "source": [
    "print(f\"{tensor} \\n\")\n",
    "tensor.add_(5)\n",
    "print(tensor)"
   ]
  },
  {
   "cell_type": "markdown",
   "id": "7618f60d-b791-448d-ba25-7bdbe7174f0d",
   "metadata": {},
   "source": [
    "## 与 Numpy 的区别\n",
    "\n",
    "CPU 上的张量和 NumPy 数组可以共享它们的底层内存位置，改变一个就会改变另一个。"
   ]
  },
  {
   "cell_type": "code",
   "execution_count": 16,
   "id": "e78e25a2-6f2b-46de-be62-64e6b616d41c",
   "metadata": {},
   "outputs": [
    {
     "name": "stdout",
     "output_type": "stream",
     "text": [
      "t: tensor([1., 1., 1., 1., 1.])\n",
      "n: [1. 1. 1. 1. 1.]\n"
     ]
    }
   ],
   "source": [
    "## 将 Tensor 转换为 Numpy 数组\n",
    "\n",
    "t = torch.ones(5)\n",
    "print(f\"t: {t}\")\n",
    "n = t.numpy()\n",
    "print(f\"n: {n}\")"
   ]
  },
  {
   "cell_type": "markdown",
   "id": "24703d46-3e59-45ae-9249-03169199b56b",
   "metadata": {},
   "source": [
    "对于 tensor 的改变会影响到 Numpy 数组："
   ]
  },
  {
   "cell_type": "code",
   "execution_count": 17,
   "id": "6d704354-9d4b-40f3-aa5f-bede8292a00b",
   "metadata": {},
   "outputs": [
    {
     "name": "stdout",
     "output_type": "stream",
     "text": [
      "t: tensor([2., 2., 2., 2., 2.])\n",
      "n: [2. 2. 2. 2. 2.]\n"
     ]
    }
   ],
   "source": [
    "t.add_(1)\n",
    "print(f\"t: {t}\")\n",
    "print(f\"n: {n}\")"
   ]
  },
  {
   "cell_type": "markdown",
   "id": "867aba45-355c-4e48-ad32-a01f2465733a",
   "metadata": {},
   "source": [
    "## Numpy 数组转换为 Tensor"
   ]
  },
  {
   "cell_type": "code",
   "execution_count": 18,
   "id": "12a5db17-2c5f-4794-bba5-e2b89af12512",
   "metadata": {},
   "outputs": [],
   "source": [
    "n = np.ones(5)\n",
    "t = torch.from_numpy(n)"
   ]
  },
  {
   "cell_type": "markdown",
   "id": "202c6038-30b1-466d-9184-a8eee1b805b6",
   "metadata": {},
   "source": [
    "改变 Numpy 数组会影响到 tensor"
   ]
  },
  {
   "cell_type": "code",
   "execution_count": 19,
   "id": "8301bc2a-ef84-4593-99cb-ba2bcff7f678",
   "metadata": {},
   "outputs": [
    {
     "name": "stdout",
     "output_type": "stream",
     "text": [
      "t: tensor([2., 2., 2., 2., 2.], dtype=torch.float64)\n",
      "n: [2. 2. 2. 2. 2.]\n"
     ]
    }
   ],
   "source": [
    "np.add(n, 1, out=n)\n",
    "print(f\"t: {t}\")\n",
    "print(f\"n: {n}\")"
   ]
  }
 ],
 "metadata": {
  "kernelspec": {
   "display_name": "Python 3",
   "language": "python",
   "name": "python3"
  },
  "language_info": {
   "codemirror_mode": {
    "name": "ipython",
    "version": 3
   },
   "file_extension": ".py",
   "mimetype": "text/x-python",
   "name": "python",
   "nbconvert_exporter": "python",
   "pygments_lexer": "ipython3",
   "version": "3.6.13"
  }
 },
 "nbformat": 4,
 "nbformat_minor": 5
}
